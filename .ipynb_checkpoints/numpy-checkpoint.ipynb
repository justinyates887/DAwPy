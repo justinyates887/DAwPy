{
 "cells": [
  {
   "cell_type": "markdown",
   "id": "08991d9f-1191-4315-977d-c209562ca911",
   "metadata": {},
   "source": [
    "# Numpy: Numeric Computing Library\n",
    "\n",
    "NumPy is a core package for Python development. It is used for numerical computing. Many other libraries, such as Pandas, Matplotlib, and Statmodels all rely on Numpy.\n",
    "\n",
    "NumPy's main contributions are:\n",
    "\n",
    "> Efficient numberic computation with C primitives\n",
    "\n",
    "> Efficient collections with vectorized operations\n",
    "\n",
    "> An integrated and natural Linear Algebra API\n",
    "\n",
    "> A C API for connecting NumPy with libraries written in C, C++, or FORTRAN.\n",
    "\n",
    "In Python, everything is an Object, which means that even simple integers are also objects. With the required machinery to make these data types work, we refer to them as \"Boxed Ints\". NumPy converts these into primitive data types in order to make them more efficient."
   ]
  },
  {
   "cell_type": "code",
   "execution_count": 6,
   "id": "31169751-bd5d-4b89-8e27-c1e92fbc22f7",
   "metadata": {},
   "outputs": [],
   "source": [
    "import numpy as np\n",
    "import sys"
   ]
  },
  {
   "cell_type": "code",
   "execution_count": 7,
   "id": "ef1b0625-edef-4427-8e35-7e84b0525a58",
   "metadata": {},
   "outputs": [
    {
     "data": {
      "text/plain": [
       "numpy.int8"
      ]
     },
     "execution_count": 7,
     "metadata": {},
     "output_type": "execute_result"
    }
   ],
   "source": [
    "np.int8"
   ]
  },
  {
   "cell_type": "markdown",
   "id": "fe180a71-005c-4c07-b3ea-ca9d36448820",
   "metadata": {},
   "source": [
    "You can use numpy to specify integers and their sizes, saving a lot of space compared to native python."
   ]
  },
  {
   "cell_type": "markdown",
   "id": "ecd09104-11d8-41bb-9acc-d3516f426092",
   "metadata": {},
   "source": [
    "The same thing goes for arrays. python natively wraps each item in a list into an object. When converting a list to numpy, it saves a ton of data."
   ]
  },
  {
   "cell_type": "markdown",
   "id": "8906a29d-7421-4ecc-af26-29f6e3b7372b",
   "metadata": {},
   "source": [
    "## NumPy Arrays"
   ]
  },
  {
   "cell_type": "markdown",
   "id": "9f836d5d-62cb-46bc-ab15-d4932a9641bc",
   "metadata": {},
   "source": [
    "Creating a numpy array is simple, just like making a Python list"
   ]
  },
  {
   "cell_type": "code",
   "execution_count": 14,
   "id": "71644ed4-3fbd-4f67-88a0-0656edf0767a",
   "metadata": {},
   "outputs": [
    {
     "data": {
      "text/plain": [
       "array([0, 1, 2, 3, 4])"
      ]
     },
     "execution_count": 14,
     "metadata": {},
     "output_type": "execute_result"
    }
   ],
   "source": [
    "array = np.array([ 0, 1, 2, 3, 4])\n",
    "array"
   ]
  },
  {
   "cell_type": "markdown",
   "id": "41ea1b33-abcb-4816-90d4-d3a23e09c88a",
   "metadata": {},
   "source": [
    "**numPy arrays are unique from Python lists in a lot of ways, however a rather important one is:**\n",
    "\n",
    "> You must keep data types the same, as numPy works to optimize the array based on the types.\n",
    "\n",
    "It is not wise to store multiple data types in a numPy array."
   ]
  },
  {
   "cell_type": "code",
   "execution_count": 15,
   "id": "a5d8a741-3026-4535-9808-8359bb39aa86",
   "metadata": {},
   "outputs": [
    {
     "data": {
      "text/plain": [
       "dtype('int32')"
      ]
     },
     "execution_count": 15,
     "metadata": {},
     "output_type": "execute_result"
    }
   ],
   "source": [
    "a = np.array([0,1,2,3,4])\n",
    "a.dtype"
   ]
  },
  {
   "cell_type": "code",
   "execution_count": 16,
   "id": "4954393b-7044-4613-8e91-b60f2bf8ab4f",
   "metadata": {},
   "outputs": [
    {
     "data": {
      "text/plain": [
       "dtype('float64')"
      ]
     },
     "execution_count": 16,
     "metadata": {},
     "output_type": "execute_result"
    }
   ],
   "source": [
    "b = np.array([0.0,1.1,2.2,3.3,4.4])\n",
    "b.dtype"
   ]
  },
  {
   "cell_type": "markdown",
   "id": "ee0ccf97-8d5a-4a82-a81a-1c515dadadeb",
   "metadata": {},
   "source": [
    "If you wish to specify the data type, you can pass that as an argument when creating the array:"
   ]
  },
  {
   "cell_type": "code",
   "execution_count": 23,
   "id": "f15ff089-c071-4ad1-af3e-cb88f36d429b",
   "metadata": {},
   "outputs": [
    {
     "data": {
      "text/plain": [
       "dtype('float64')"
      ]
     },
     "execution_count": 23,
     "metadata": {},
     "output_type": "execute_result"
    }
   ],
   "source": [
    "c = np.array([0,1,2,3], dtype=float)\n",
    "c.dtype"
   ]
  },
  {
   "cell_type": "code",
   "execution_count": 24,
   "id": "0749f61f-5ad0-4e8b-875a-27cd1397ba9d",
   "metadata": {},
   "outputs": [
    {
     "data": {
      "text/plain": [
       "dtype('<U1')"
      ]
     },
     "execution_count": 24,
     "metadata": {},
     "output_type": "execute_result"
    }
   ],
   "source": [
    "d = np.array(['a','b','c'])\n",
    "d.dtype"
   ]
  },
  {
   "cell_type": "markdown",
   "id": "f079e94e-daed-46bd-9849-39731280266a",
   "metadata": {},
   "source": [
    "Most of the time, nump will not be used to store string or char data."
   ]
  },
  {
   "cell_type": "markdown",
   "id": "7f413b6e-9a4c-4007-b951-9572f79088a5",
   "metadata": {},
   "source": [
    "## Dimensions and Shapes"
   ]
  },
  {
   "cell_type": "code",
   "execution_count": 25,
   "id": "4b278b39-6a4f-49aa-9e75-8a9d34b6ec96",
   "metadata": {},
   "outputs": [],
   "source": [
    "e = np.array([\n",
    "#   0  1 2 \n",
    "    [1,2,3], # 0\n",
    "    [4,5,6]  # 1\n",
    "])"
   ]
  },
  {
   "cell_type": "code",
   "execution_count": 26,
   "id": "0f8cbbde-8365-4a96-b6b3-8b7f35696b98",
   "metadata": {},
   "outputs": [
    {
     "data": {
      "text/plain": [
       "(2, 3)"
      ]
     },
     "execution_count": 26,
     "metadata": {},
     "output_type": "execute_result"
    }
   ],
   "source": [
    "e.shape"
   ]
  },
  {
   "cell_type": "markdown",
   "id": "4a4775ef-cf9d-443b-b062-416944e26c15",
   "metadata": {},
   "source": [
    "> The above means that the above defined array has 2 columns consisting of three rows each\n",
    "\n",
    "> We can also see the dimensions of the array, as well as the total amount of all entries in the array"
   ]
  },
  {
   "cell_type": "code",
   "execution_count": 27,
   "id": "470da886-3675-41f7-9d77-638b9060fd66",
   "metadata": {},
   "outputs": [
    {
     "data": {
      "text/plain": [
       "2"
      ]
     },
     "execution_count": 27,
     "metadata": {},
     "output_type": "execute_result"
    }
   ],
   "source": [
    "e.ndim"
   ]
  },
  {
   "cell_type": "code",
   "execution_count": 28,
   "id": "c66ed69b-c09c-48e6-9135-22fa02b7e23e",
   "metadata": {},
   "outputs": [
    {
     "data": {
      "text/plain": [
       "6"
      ]
     },
     "execution_count": 28,
     "metadata": {},
     "output_type": "execute_result"
    }
   ],
   "source": [
    "e.size"
   ]
  },
  {
   "cell_type": "markdown",
   "id": "2b2d0f34-eb94-4660-a221-094058af2906",
   "metadata": {},
   "source": [
    "When accessing the elements of the array in a matrix form, the first index specified will target the indexed row, while the second will target the indexed column. When used together, you cna target specific elements:"
   ]
  },
  {
   "cell_type": "code",
   "execution_count": 29,
   "id": "3225e7b3-59d7-4101-bad2-dfac4243d3c1",
   "metadata": {},
   "outputs": [
    {
     "data": {
      "text/plain": [
       "6"
      ]
     },
     "execution_count": 29,
     "metadata": {},
     "output_type": "execute_result"
    }
   ],
   "source": [
    "e[1][2]"
   ]
  },
  {
   "cell_type": "markdown",
   "id": "2093bfbc-e5b3-4da4-92bf-79f6524ba000",
   "metadata": {},
   "source": [
    "You can also target multiple elements using numpy's syntax, called slicing"
   ]
  },
  {
   "cell_type": "code",
   "execution_count": 30,
   "id": "ffc605ad-c178-4055-a231-b821e96abfee",
   "metadata": {},
   "outputs": [
    {
     "data": {
      "text/plain": [
       "array([[1, 2, 3],\n",
       "       [4, 5, 6]])"
      ]
     },
     "execution_count": 30,
     "metadata": {},
     "output_type": "execute_result"
    }
   ],
   "source": [
    "e[0:2]"
   ]
  },
  {
   "cell_type": "code",
   "execution_count": 31,
   "id": "c5e16963-4d86-4a03-a0b9-9b42af34ba4a",
   "metadata": {},
   "outputs": [
    {
     "data": {
      "text/plain": [
       "array([[1, 2],\n",
       "       [4, 5]])"
      ]
     },
     "execution_count": 31,
     "metadata": {},
     "output_type": "execute_result"
    }
   ],
   "source": [
    "e[:, :2]"
   ]
  },
  {
   "cell_type": "markdown",
   "id": "9efd475e-d46d-4fb5-8551-c32240ffd00b",
   "metadata": {},
   "source": [
    ": is inclusive. You can specify an index before or after to target starting at and up to respectively. "
   ]
  },
  {
   "cell_type": "markdown",
   "id": "6ba095f4-9a3c-43d9-bf47-5f25ee8cceed",
   "metadata": {},
   "source": [
    "## Using Statistics with NumPy"
   ]
  },
  {
   "cell_type": "markdown",
   "id": "322c6e47-77c9-4d9a-be40-e526bcf8889b",
   "metadata": {},
   "source": [
    "numpy comes built in with many usefull statistics tools to help summarize and verify your data such as:"
   ]
  },
  {
   "cell_type": "code",
   "execution_count": 33,
   "id": "860673a0-ef53-42f4-9cec-28ff4f0266b0",
   "metadata": {},
   "outputs": [
    {
     "data": {
      "text/plain": [
       "3.5"
      ]
     },
     "execution_count": 33,
     "metadata": {},
     "output_type": "execute_result"
    }
   ],
   "source": [
    "e.mean()"
   ]
  },
  {
   "cell_type": "code",
   "execution_count": 36,
   "id": "d934e6cb-7ced-49f5-be47-13dec2fdb611",
   "metadata": {},
   "outputs": [
    {
     "data": {
      "text/plain": [
       "1.707825127659933"
      ]
     },
     "execution_count": 36,
     "metadata": {},
     "output_type": "execute_result"
    }
   ],
   "source": [
    "e.std()"
   ]
  },
  {
   "cell_type": "code",
   "execution_count": 37,
   "id": "0227a402-824b-4dc6-8221-c4f40e5946b4",
   "metadata": {},
   "outputs": [
    {
     "data": {
      "text/plain": [
       "21"
      ]
     },
     "execution_count": 37,
     "metadata": {},
     "output_type": "execute_result"
    }
   ],
   "source": [
    "e.sum()"
   ]
  },
  {
   "cell_type": "markdown",
   "id": "36a60cb3-8f3c-458b-adef-96ca662f055d",
   "metadata": {},
   "source": [
    "you can specify which axis you want as an argument\n"
   ]
  },
  {
   "cell_type": "code",
   "execution_count": 38,
   "id": "0fe5fbc8-f4a1-4dfa-9c74-b5e50c0b7bea",
   "metadata": {},
   "outputs": [
    {
     "data": {
      "text/plain": [
       "array([2., 5.])"
      ]
     },
     "execution_count": 38,
     "metadata": {},
     "output_type": "execute_result"
    }
   ],
   "source": [
    "e.mean(axis=1)"
   ]
  },
  {
   "cell_type": "markdown",
   "id": "12e3f460-a5b9-4b96-875c-0723f4f666b2",
   "metadata": {},
   "source": [
    "## Broadcasting and Vectorized Operations"
   ]
  },
  {
   "cell_type": "code",
   "execution_count": 42,
   "id": "e40a8fad-2073-434b-857a-ddb7537656ee",
   "metadata": {},
   "outputs": [],
   "source": [
    "f = np.array([\n",
    "#   0  1 2 \n",
    "    [1,2,3], # 0\n",
    "    [4,5,6], # 1\n",
    "    [7,8,9]  #2\n",
    "])"
   ]
  },
  {
   "cell_type": "markdown",
   "id": "6f2a299d-07cf-4a23-b9bb-fcb205a9b2ce",
   "metadata": {},
   "source": [
    "You can use operations to modify **the entire dataset of the array**"
   ]
  },
  {
   "cell_type": "code",
   "execution_count": 43,
   "id": "7bd870d3-5443-48d6-b53e-8b26aa3fa3af",
   "metadata": {},
   "outputs": [
    {
     "data": {
      "text/plain": [
       "array([[11, 12, 13],\n",
       "       [14, 15, 16],\n",
       "       [17, 18, 19]])"
      ]
     },
     "execution_count": 43,
     "metadata": {},
     "output_type": "execute_result"
    }
   ],
   "source": [
    "f + 10"
   ]
  },
  {
   "cell_type": "markdown",
   "id": "170f4ca3-ed76-4cf8-aee0-cbb0f5369759",
   "metadata": {},
   "source": [
    "However, the original array will remain unchanged, so its best to set the new dataset to a new variable."
   ]
  },
  {
   "cell_type": "code",
   "execution_count": 45,
   "id": "4d43a03f-c1a6-4726-94d9-11395c5adc75",
   "metadata": {},
   "outputs": [
    {
     "data": {
      "text/plain": [
       "array([[1, 2, 3],\n",
       "       [4, 5, 6],\n",
       "       [7, 8, 9]])"
      ]
     },
     "execution_count": 45,
     "metadata": {},
     "output_type": "execute_result"
    }
   ],
   "source": [
    "f"
   ]
  },
  {
   "cell_type": "code",
   "execution_count": 46,
   "id": "4002ffac-9a4c-4558-bfc5-7c874da75ad0",
   "metadata": {},
   "outputs": [
    {
     "data": {
      "text/plain": [
       "array([[101, 102, 103],\n",
       "       [104, 105, 106],\n",
       "       [107, 108, 109]])"
      ]
     },
     "execution_count": 46,
     "metadata": {},
     "output_type": "execute_result"
    }
   ],
   "source": [
    "g = f + 100\n",
    "g"
   ]
  },
  {
   "cell_type": "code",
   "execution_count": 47,
   "id": "43905fe1-f4ca-4774-9ce4-b1007469e81d",
   "metadata": {},
   "outputs": [
    {
     "data": {
      "text/plain": [
       "array([[1, 2, 3],\n",
       "       [4, 5, 6],\n",
       "       [7, 8, 9]])"
      ]
     },
     "execution_count": 47,
     "metadata": {},
     "output_type": "execute_result"
    }
   ],
   "source": [
    "f"
   ]
  },
  {
   "cell_type": "markdown",
   "id": "9a1690a3-9055-4b82-ac2b-b24e929113c7",
   "metadata": {},
   "source": [
    "You can also operate two arrays with one another:"
   ]
  },
  {
   "cell_type": "code",
   "execution_count": 50,
   "id": "1f42d2c4-a8f8-407e-b992-44dc988fd000",
   "metadata": {},
   "outputs": [
    {
     "data": {
      "text/plain": [
       "array([[102, 104, 106],\n",
       "       [108, 110, 112],\n",
       "       [114, 116, 118]])"
      ]
     },
     "execution_count": 50,
     "metadata": {},
     "output_type": "execute_result"
    }
   ],
   "source": [
    "h = f + g\n",
    "h"
   ]
  },
  {
   "cell_type": "markdown",
   "id": "d0eb2e75-8f2d-477d-8005-3f343eba36fe",
   "metadata": {},
   "source": [
    "## Boolean Arrays\n",
    "\n",
    "*Also called masks*"
   ]
  },
  {
   "cell_type": "markdown",
   "id": "9f8025d4-006d-47e3-a457-710926aaa600",
   "metadata": {},
   "source": [
    "Boolean arrays can be used to select elements instead of targeting their specific indexes."
   ]
  },
  {
   "cell_type": "code",
   "execution_count": 53,
   "id": "3a19497a-22f2-4dd7-b94c-44de0e33f406",
   "metadata": {},
   "outputs": [
    {
     "data": {
      "text/plain": [
       "array([0, 1, 2, 3])"
      ]
     },
     "execution_count": 53,
     "metadata": {},
     "output_type": "execute_result"
    }
   ],
   "source": [
    "boo = np.arange(4)\n",
    "boo"
   ]
  },
  {
   "cell_type": "markdown",
   "id": "b6a79d1a-39cd-467c-a38d-d11194415b97",
   "metadata": {},
   "source": [
    "We can select the first and last index by specifying:"
   ]
  },
  {
   "cell_type": "code",
   "execution_count": 60,
   "id": "736e3d97-0405-4168-90d0-4eab3430c53f",
   "metadata": {},
   "outputs": [
    {
     "data": {
      "text/plain": [
       "array([0, 3])"
      ]
     },
     "execution_count": 60,
     "metadata": {},
     "output_type": "execute_result"
    }
   ],
   "source": [
    "boo[0], boo[-1]\n",
    "boo[[0,-1]]"
   ]
  },
  {
   "cell_type": "markdown",
   "id": "e72cadf7-3e4d-4411-9827-f7dc8865cfe6",
   "metadata": {},
   "source": [
    "**OR**"
   ]
  },
  {
   "cell_type": "code",
   "execution_count": 59,
   "id": "abcceed2-9cf2-4a8b-9d2a-5183ece64a66",
   "metadata": {},
   "outputs": [
    {
     "data": {
      "text/plain": [
       "array([0, 3])"
      ]
     },
     "execution_count": 59,
     "metadata": {},
     "output_type": "execute_result"
    }
   ],
   "source": [
    "boo[[True, False, False, True]]"
   ]
  },
  {
   "cell_type": "markdown",
   "id": "922c1d79-a74f-4fcd-8433-e6c223ca89aa",
   "metadata": {},
   "source": [
    "We can also return an array of boolean values based on an expression:"
   ]
  },
  {
   "cell_type": "code",
   "execution_count": 61,
   "id": "460dc178-ff45-48c9-acd6-ff539af8500b",
   "metadata": {},
   "outputs": [
    {
     "data": {
      "text/plain": [
       "array([False, False,  True,  True])"
      ]
     },
     "execution_count": 61,
     "metadata": {},
     "output_type": "execute_result"
    }
   ],
   "source": [
    "boo >=2"
   ]
  },
  {
   "cell_type": "markdown",
   "id": "9f46266b-b6f4-43aa-b369-231780e06206",
   "metadata": {},
   "source": [
    "If we combine these techniques, we can return specified values:"
   ]
  },
  {
   "cell_type": "code",
   "execution_count": 62,
   "id": "6c354222-c8c2-4b7a-9f50-51418fbaa2e0",
   "metadata": {},
   "outputs": [
    {
     "data": {
      "text/plain": [
       "array([2, 3])"
      ]
     },
     "execution_count": 62,
     "metadata": {},
     "output_type": "execute_result"
    }
   ],
   "source": [
    "boo[boo >= 2]"
   ]
  },
  {
   "cell_type": "markdown",
   "id": "5d0014db-6737-4153-90db-5618b94d4d7b",
   "metadata": {},
   "source": [
    "If we combine these with the stastics methods, we can provide values that match criteria we may be looking for:"
   ]
  },
  {
   "cell_type": "code",
   "execution_count": 63,
   "id": "bdc6840f-d691-4479-9c28-62a6e3f98718",
   "metadata": {},
   "outputs": [
    {
     "data": {
      "text/plain": [
       "array([2, 3])"
      ]
     },
     "execution_count": 63,
     "metadata": {},
     "output_type": "execute_result"
    }
   ],
   "source": [
    "boo[boo > boo.mean()]"
   ]
  },
  {
   "cell_type": "code",
   "execution_count": null,
   "id": "3f7330c3-2453-46ef-a622-2fd6788027e2",
   "metadata": {},
   "outputs": [],
   "source": []
  }
 ],
 "metadata": {
  "kernelspec": {
   "display_name": "Python 3 (ipykernel)",
   "language": "python",
   "name": "python3"
  },
  "language_info": {
   "codemirror_mode": {
    "name": "ipython",
    "version": 3
   },
   "file_extension": ".py",
   "mimetype": "text/x-python",
   "name": "python",
   "nbconvert_exporter": "python",
   "pygments_lexer": "ipython3",
   "version": "3.9.4"
  }
 },
 "nbformat": 4,
 "nbformat_minor": 5
}
