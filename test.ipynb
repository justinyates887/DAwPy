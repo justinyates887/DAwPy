{
 "cells": [
  {
   "cell_type": "markdown",
   "id": "e5df6c77-b5f8-42d2-9d08-7f31429b730a",
   "metadata": {},
   "source": [
    "## This is Markdown"
   ]
  },
  {
   "cell_type": "code",
   "execution_count": 2,
   "id": "4ce8a688-b756-4244-9050-6472c86dab9f",
   "metadata": {},
   "outputs": [
    {
     "name": "stdout",
     "output_type": "stream",
     "text": [
      "This is Python\n"
     ]
    }
   ],
   "source": [
    "print('This is Python')"
   ]
  },
  {
   "cell_type": "markdown",
   "id": "6a26e4ad-7f5f-425f-8d6e-36cf3bbc721c",
   "metadata": {},
   "source": [
    "### So basically...\n",
    "\n",
    "A Jupyter notebook can:\n",
    "\n",
    ">Use text to explain your data\n",
    "\n",
    ">Explain data points, outliers, and other factors right next to the displayed data\n",
    "\n",
    ">Format a presentaion for the fidnings of analyzed data."
   ]
  },
  {
   "cell_type": "markdown",
   "id": "af9c5bbc-7d4d-4e66-b89e-b9391999b144",
   "metadata": {},
   "source": [
    "## Using python to display data:"
   ]
  },
  {
   "cell_type": "code",
   "execution_count": 1,
   "id": "ccf65232-47e4-4a53-9025-b16fb60c02b8",
   "metadata": {},
   "outputs": [
    {
     "data": {
      "image/png": "[encoded data removed]",
      "text/plain": [
       "<Figure size 432x288 with 1 Axes>"
      ]
     },
     "metadata": {
      "needs_background": "light"
     },
     "output_type": "display_data"
    }
   ],
   "source": [
    "import matplotlib.pyplot as plt\n",
    "\n",
    "x = [0,1,2,3,4,5,6,7,8,9,10]\n",
    "y = [0,1,2,3,4,5,6,7,8,9,10]\n",
    "\n",
    "plt.plot(x, y)\n",
    "plt.show()"
   ]
  },
  {
   "cell_type": "markdown",
   "id": "43688fb0-852d-4c7c-bd34-2c989bf8874e",
   "metadata": {},
   "source": [
    "# Let's Try a Real Example"
   ]
  },
  {
   "cell_type": "markdown",
   "id": "0c201f32-e15c-49f1-8b59-0f0604b92fe6",
   "metadata": {},
   "source": [
    "### First, we are going to import some dependancies that we will be using for this visual:"
   ]
  },
  {
   "cell_type": "code",
   "execution_count": 22,
   "id": "1e3fb8d1-a29c-4e42-89da-3eb02c2b9c35",
   "metadata": {},
   "outputs": [],
   "source": [
    "import requests\n",
    "import pandas as pd"
   ]
  },
  {
   "cell_type": "markdown",
   "id": "d8a0e09e-ead5-43be-bb4a-f7e018c7497c",
   "metadata": {},
   "source": [
    "Now, we are going to conenct to a free API in order to display historical price data for two major crypto-curriencies in the past seven days."
   ]
  },
  {
   "cell_type": "code",
   "execution_count": 24,
   "id": "cb297923-02c0-484d-b213-29bfef358ad5",
   "metadata": {},
   "outputs": [],
   "source": [
    "def get_historic_price(symbol, exchange='bitfinex', after='2022-07-01'):\n",
    "    url = 'https://api.cryptowat.ch/markets/{exchange}/{symbol}usd/ohlc'.format(\n",
    "        symbol=symbol, exchange=exchange)\n",
    "    resp = requests.get(url, params={\n",
    "        'periods': '3600',\n",
    "        'after': str(int(pd.Timestamp(after).timestamp()))\n",
    "    },)\n",
    "    resp.raise_for_status()\n",
    "    data = resp.json()\n",
    "    df = pd.DataFrame(data['result']['3600'], columns=[\n",
    "        'CloseTime', 'OpenPrice', 'HighPrice', 'LowPrice', 'ClosePrice', 'Volume', 'NA'\n",
    "    ])\n",
    "    df['CloseTime'] = pd.to_datetime(df['CloseTime'], unit='s')\n",
    "    df.set_index('CloseTime', inplace=True)\n",
    "    return df"
   ]
  },
  {
   "cell_type": "markdown",
   "id": "46ba6cdd-97ac-4776-9d57-e67eb5624ec5",
   "metadata": {},
   "source": [
    "Now we can pull the data"
   ]
  },
  {
   "cell_type": "code",
   "execution_count": 25,
   "id": "32f5d5ed-0f44-4397-ade4-c62453af2452",
   "metadata": {},
   "outputs": [
    {
     "data": {
      "text/plain": [
       "Timestamp('2022-07-01 14:38:42.220835')"
      ]
     },
     "execution_count": 25,
     "metadata": {},
     "output_type": "execute_result"
    }
   ],
   "source": [
    "last_week = (pd.Timestamp.now() - pd.offsets.Day(7))\n",
    "last_week"
   ]
  },
  {
   "cell_type": "code",
   "execution_count": 28,
   "id": "c5f61d26-1fb2-4baf-90c0-c2957846e019",
   "metadata": {},
   "outputs": [],
   "source": [
    "btc = get_historic_price('btc', 'bitstamp', after=last_week)"
   ]
  },
  {
   "cell_type": "code",
   "execution_count": 29,
   "id": "ae22a02e-aa3f-475c-8563-d3cd7ea471aa",
   "metadata": {},
   "outputs": [],
   "source": [
    "eth = get_historic_price('eth', 'bitstamp', after=last_week)"
   ]
  },
  {
   "cell_type": "markdown",
   "id": "1e7b4343-f8ad-419d-9a35-99940c1eb250",
   "metadata": {},
   "source": [
    "### Bitcoin:"
   ]
  },
  {
   "cell_type": "code",
   "execution_count": 30,
   "id": "f2c9ba47-cfe7-4aae-90d4-e5ef76212ce5",
   "metadata": {},
   "outputs": [
    {
     "data": {
      "text/html": [
       "<div>\n",
       "<style scoped>\n",
       "    .dataframe tbody tr th:only-of-type {\n",
       "        vertical-align: middle;\n",
       "    }\n",
       "\n",
       "    .dataframe tbody tr th {\n",
       "        vertical-align: top;\n",
       "    }\n",
       "\n",
       "    .dataframe thead th {\n",
       "        text-align: right;\n",
       "    }\n",
       "</style>\n",
       "<table border=\"1\" class=\"dataframe\">\n",
       "  <thead>\n",
       "    <tr style=\"text-align: right;\">\n",
       "      <th></th>\n",
       "      <th>OpenPrice</th>\n",
       "      <th>HighPrice</th>\n",
       "      <th>LowPrice</th>\n",
       "      <th>ClosePrice</th>\n",
       "      <th>Volume</th>\n",
       "      <th>NA</th>\n",
       "    </tr>\n",
       "    <tr>\n",
       "      <th>CloseTime</th>\n",
       "      <th></th>\n",
       "      <th></th>\n",
       "      <th></th>\n",
       "      <th></th>\n",
       "      <th></th>\n",
       "      <th></th>\n",
       "    </tr>\n",
       "  </thead>\n",
       "  <tbody>\n",
       "    <tr>\n",
       "      <th>2022-07-01 15:00:00</th>\n",
       "      <td>19434.33</td>\n",
       "      <td>19514.39</td>\n",
       "      <td>19272.57</td>\n",
       "      <td>19379.31</td>\n",
       "      <td>111.629059</td>\n",
       "      <td>2.159245e+06</td>\n",
       "    </tr>\n",
       "    <tr>\n",
       "      <th>2022-07-01 16:00:00</th>\n",
       "      <td>19377.83</td>\n",
       "      <td>19465.78</td>\n",
       "      <td>19200.58</td>\n",
       "      <td>19277.41</td>\n",
       "      <td>84.782339</td>\n",
       "      <td>1.641442e+06</td>\n",
       "    </tr>\n",
       "    <tr>\n",
       "      <th>2022-07-01 17:00:00</th>\n",
       "      <td>19280.56</td>\n",
       "      <td>19446.21</td>\n",
       "      <td>19238.06</td>\n",
       "      <td>19319.95</td>\n",
       "      <td>41.063379</td>\n",
       "      <td>7.951295e+05</td>\n",
       "    </tr>\n",
       "    <tr>\n",
       "      <th>2022-07-01 18:00:00</th>\n",
       "      <td>19332.96</td>\n",
       "      <td>19502.88</td>\n",
       "      <td>19300.00</td>\n",
       "      <td>19472.32</td>\n",
       "      <td>53.899314</td>\n",
       "      <td>1.046883e+06</td>\n",
       "    </tr>\n",
       "    <tr>\n",
       "      <th>2022-07-01 19:00:00</th>\n",
       "      <td>19473.51</td>\n",
       "      <td>19515.21</td>\n",
       "      <td>19373.67</td>\n",
       "      <td>19422.95</td>\n",
       "      <td>28.945207</td>\n",
       "      <td>5.632546e+05</td>\n",
       "    </tr>\n",
       "  </tbody>\n",
       "</table>\n",
       "</div>"
      ],
      "text/plain": [
       "                     OpenPrice  HighPrice  LowPrice  ClosePrice      Volume  \\\n",
       "CloseTime                                                                     \n",
       "2022-07-01 15:00:00   19434.33   19514.39  19272.57    19379.31  111.629059   \n",
       "2022-07-01 16:00:00   19377.83   19465.78  19200.58    19277.41   84.782339   \n",
       "2022-07-01 17:00:00   19280.56   19446.21  19238.06    19319.95   41.063379   \n",
       "2022-07-01 18:00:00   19332.96   19502.88  19300.00    19472.32   53.899314   \n",
       "2022-07-01 19:00:00   19473.51   19515.21  19373.67    19422.95   28.945207   \n",
       "\n",
       "                               NA  \n",
       "CloseTime                          \n",
       "2022-07-01 15:00:00  2.159245e+06  \n",
       "2022-07-01 16:00:00  1.641442e+06  \n",
       "2022-07-01 17:00:00  7.951295e+05  \n",
       "2022-07-01 18:00:00  1.046883e+06  \n",
       "2022-07-01 19:00:00  5.632546e+05  "
      ]
     },
     "execution_count": 30,
     "metadata": {},
     "output_type": "execute_result"
    }
   ],
   "source": [
    "btc.head()"
   ]
  },
  {
   "cell_type": "code",
   "execution_count": 32,
   "id": "53c8a384-fbee-457b-aeea-8acb10e91527",
   "metadata": {},
   "outputs": [
    {
     "data": {
      "text/plain": [
       "<AxesSubplot:xlabel='CloseTime'>"
      ]
     },
     "execution_count": 32,
     "metadata": {},
     "output_type": "execute_result"
    },
    {
     "data": {
      "image/png": "[encoded data removed]",
      "text/plain": [
       "<Figure size 1080x504 with 1 Axes>"
      ]
     },
     "metadata": {
      "needs_background": "light"
     },
     "output_type": "display_data"
    }
   ],
   "source": [
    "btc['ClosePrice'].plot(figsize=(15,7))"
   ]
  },
  {
   "cell_type": "code",
   "execution_count": 34,
   "id": "4ff8f15d-c375-4b3b-8b0e-7acf039e29f0",
   "metadata": {},
   "outputs": [
    {
     "data": {
      "text/html": [
       "<div>\n",
       "<style scoped>\n",
       "    .dataframe tbody tr th:only-of-type {\n",
       "        vertical-align: middle;\n",
       "    }\n",
       "\n",
       "    .dataframe tbody tr th {\n",
       "        vertical-align: top;\n",
       "    }\n",
       "\n",
       "    .dataframe thead th {\n",
       "        text-align: right;\n",
       "    }\n",
       "</style>\n",
       "<table border=\"1\" class=\"dataframe\">\n",
       "  <thead>\n",
       "    <tr style=\"text-align: right;\">\n",
       "      <th></th>\n",
       "      <th>OpenPrice</th>\n",
       "      <th>HighPrice</th>\n",
       "      <th>LowPrice</th>\n",
       "      <th>ClosePrice</th>\n",
       "      <th>Volume</th>\n",
       "      <th>NA</th>\n",
       "    </tr>\n",
       "  </thead>\n",
       "  <tbody>\n",
       "    <tr>\n",
       "      <th>count</th>\n",
       "      <td>174.000000</td>\n",
       "      <td>174.000000</td>\n",
       "      <td>174.000000</td>\n",
       "      <td>174.000000</td>\n",
       "      <td>174.000000</td>\n",
       "      <td>1.740000e+02</td>\n",
       "    </tr>\n",
       "    <tr>\n",
       "      <th>mean</th>\n",
       "      <td>19997.492184</td>\n",
       "      <td>20108.962126</td>\n",
       "      <td>19899.947529</td>\n",
       "      <td>20010.037299</td>\n",
       "      <td>97.918458</td>\n",
       "      <td>1.994904e+06</td>\n",
       "    </tr>\n",
       "    <tr>\n",
       "      <th>std</th>\n",
       "      <td>869.803568</td>\n",
       "      <td>896.162678</td>\n",
       "      <td>848.549037</td>\n",
       "      <td>878.056323</td>\n",
       "      <td>123.652737</td>\n",
       "      <td>2.624931e+06</td>\n",
       "    </tr>\n",
       "    <tr>\n",
       "      <th>min</th>\n",
       "      <td>18959.790000</td>\n",
       "      <td>19062.860000</td>\n",
       "      <td>18763.960000</td>\n",
       "      <td>18955.310000</td>\n",
       "      <td>9.618878</td>\n",
       "      <td>1.837200e+05</td>\n",
       "    </tr>\n",
       "    <tr>\n",
       "      <th>25%</th>\n",
       "      <td>19247.685000</td>\n",
       "      <td>19322.502500</td>\n",
       "      <td>19175.797500</td>\n",
       "      <td>19246.470000</td>\n",
       "      <td>31.218216</td>\n",
       "      <td>6.120240e+05</td>\n",
       "    </tr>\n",
       "    <tr>\n",
       "      <th>50%</th>\n",
       "      <td>19821.520000</td>\n",
       "      <td>19956.480000</td>\n",
       "      <td>19717.815000</td>\n",
       "      <td>19858.040000</td>\n",
       "      <td>56.754706</td>\n",
       "      <td>1.150872e+06</td>\n",
       "    </tr>\n",
       "    <tr>\n",
       "      <th>75%</th>\n",
       "      <td>20402.070000</td>\n",
       "      <td>20478.255000</td>\n",
       "      <td>20324.815000</td>\n",
       "      <td>20408.532500</td>\n",
       "      <td>111.267873</td>\n",
       "      <td>2.191963e+06</td>\n",
       "    </tr>\n",
       "    <tr>\n",
       "      <th>max</th>\n",
       "      <td>22142.710000</td>\n",
       "      <td>22401.000000</td>\n",
       "      <td>21952.540000</td>\n",
       "      <td>22128.970000</td>\n",
       "      <td>1035.380949</td>\n",
       "      <td>2.233666e+07</td>\n",
       "    </tr>\n",
       "  </tbody>\n",
       "</table>\n",
       "</div>"
      ],
      "text/plain": [
       "          OpenPrice     HighPrice      LowPrice    ClosePrice       Volume  \\\n",
       "count    174.000000    174.000000    174.000000    174.000000   174.000000   \n",
       "mean   19997.492184  20108.962126  19899.947529  20010.037299    97.918458   \n",
       "std      869.803568    896.162678    848.549037    878.056323   123.652737   \n",
       "min    18959.790000  19062.860000  18763.960000  18955.310000     9.618878   \n",
       "25%    19247.685000  19322.502500  19175.797500  19246.470000    31.218216   \n",
       "50%    19821.520000  19956.480000  19717.815000  19858.040000    56.754706   \n",
       "75%    20402.070000  20478.255000  20324.815000  20408.532500   111.267873   \n",
       "max    22142.710000  22401.000000  21952.540000  22128.970000  1035.380949   \n",
       "\n",
       "                 NA  \n",
       "count  1.740000e+02  \n",
       "mean   1.994904e+06  \n",
       "std    2.624931e+06  \n",
       "min    1.837200e+05  \n",
       "25%    6.120240e+05  \n",
       "50%    1.150872e+06  \n",
       "75%    2.191963e+06  \n",
       "max    2.233666e+07  "
      ]
     },
     "execution_count": 34,
     "metadata": {},
     "output_type": "execute_result"
    }
   ],
   "source": [
    "btc.describe()"
   ]
  },
  {
   "cell_type": "markdown",
   "id": "494421cc-4f63-4c4a-8276-ba6663aa59d9",
   "metadata": {
    "tags": []
   },
   "source": [
    "### Ethereum"
   ]
  },
  {
   "cell_type": "code",
   "execution_count": 31,
   "id": "fd4768d5-7426-4a12-bcaa-8340e3cf2074",
   "metadata": {},
   "outputs": [
    {
     "data": {
      "text/html": [
       "<div>\n",
       "<style scoped>\n",
       "    .dataframe tbody tr th:only-of-type {\n",
       "        vertical-align: middle;\n",
       "    }\n",
       "\n",
       "    .dataframe tbody tr th {\n",
       "        vertical-align: top;\n",
       "    }\n",
       "\n",
       "    .dataframe thead th {\n",
       "        text-align: right;\n",
       "    }\n",
       "</style>\n",
       "<table border=\"1\" class=\"dataframe\">\n",
       "  <thead>\n",
       "    <tr style=\"text-align: right;\">\n",
       "      <th></th>\n",
       "      <th>OpenPrice</th>\n",
       "      <th>HighPrice</th>\n",
       "      <th>LowPrice</th>\n",
       "      <th>ClosePrice</th>\n",
       "      <th>Volume</th>\n",
       "      <th>NA</th>\n",
       "    </tr>\n",
       "    <tr>\n",
       "      <th>CloseTime</th>\n",
       "      <th></th>\n",
       "      <th></th>\n",
       "      <th></th>\n",
       "      <th></th>\n",
       "      <th></th>\n",
       "      <th></th>\n",
       "    </tr>\n",
       "  </thead>\n",
       "  <tbody>\n",
       "    <tr>\n",
       "      <th>2022-07-01 15:00:00</th>\n",
       "      <td>1060.70</td>\n",
       "      <td>1064.58</td>\n",
       "      <td>1044.33</td>\n",
       "      <td>1055.96</td>\n",
       "      <td>648.320705</td>\n",
       "      <td>683804.159253</td>\n",
       "    </tr>\n",
       "    <tr>\n",
       "      <th>2022-07-01 16:00:00</th>\n",
       "      <td>1055.43</td>\n",
       "      <td>1063.65</td>\n",
       "      <td>1051.24</td>\n",
       "      <td>1056.78</td>\n",
       "      <td>558.378329</td>\n",
       "      <td>590358.928331</td>\n",
       "    </tr>\n",
       "    <tr>\n",
       "      <th>2022-07-01 17:00:00</th>\n",
       "      <td>1056.40</td>\n",
       "      <td>1070.00</td>\n",
       "      <td>1053.57</td>\n",
       "      <td>1064.99</td>\n",
       "      <td>524.299771</td>\n",
       "      <td>558240.590692</td>\n",
       "    </tr>\n",
       "    <tr>\n",
       "      <th>2022-07-01 18:00:00</th>\n",
       "      <td>1064.00</td>\n",
       "      <td>1079.88</td>\n",
       "      <td>1060.86</td>\n",
       "      <td>1073.02</td>\n",
       "      <td>508.297292</td>\n",
       "      <td>544051.309111</td>\n",
       "    </tr>\n",
       "    <tr>\n",
       "      <th>2022-07-01 19:00:00</th>\n",
       "      <td>1072.97</td>\n",
       "      <td>1075.94</td>\n",
       "      <td>1066.61</td>\n",
       "      <td>1070.65</td>\n",
       "      <td>338.342505</td>\n",
       "      <td>362326.217965</td>\n",
       "    </tr>\n",
       "  </tbody>\n",
       "</table>\n",
       "</div>"
      ],
      "text/plain": [
       "                     OpenPrice  HighPrice  LowPrice  ClosePrice      Volume  \\\n",
       "CloseTime                                                                     \n",
       "2022-07-01 15:00:00    1060.70    1064.58   1044.33     1055.96  648.320705   \n",
       "2022-07-01 16:00:00    1055.43    1063.65   1051.24     1056.78  558.378329   \n",
       "2022-07-01 17:00:00    1056.40    1070.00   1053.57     1064.99  524.299771   \n",
       "2022-07-01 18:00:00    1064.00    1079.88   1060.86     1073.02  508.297292   \n",
       "2022-07-01 19:00:00    1072.97    1075.94   1066.61     1070.65  338.342505   \n",
       "\n",
       "                                NA  \n",
       "CloseTime                           \n",
       "2022-07-01 15:00:00  683804.159253  \n",
       "2022-07-01 16:00:00  590358.928331  \n",
       "2022-07-01 17:00:00  558240.590692  \n",
       "2022-07-01 18:00:00  544051.309111  \n",
       "2022-07-01 19:00:00  362326.217965  "
      ]
     },
     "execution_count": 31,
     "metadata": {},
     "output_type": "execute_result"
    }
   ],
   "source": [
    "eth.head()"
   ]
  },
  {
   "cell_type": "code",
   "execution_count": 33,
   "id": "bbc5a8bb-ab46-4841-af2a-3269070a2fdb",
   "metadata": {},
   "outputs": [
    {
     "data": {
      "text/plain": [
       "<AxesSubplot:xlabel='CloseTime'>"
      ]
     },
     "execution_count": 33,
     "metadata": {},
     "output_type": "execute_result"
    },
    {
     "data": {
      "image/png": "[encoded data removed]",
      "text/plain": [
       "<Figure size 1080x504 with 1 Axes>"
      ]
     },
     "metadata": {
      "needs_background": "light"
     },
     "output_type": "display_data"
    }
   ],
   "source": [
    "eth['ClosePrice'].plot(figsize=(15,7))"
   ]
  },
  {
   "cell_type": "code",
   "execution_count": 36,
   "id": "d6064009-f7f8-4a03-82a5-211e76db0185",
   "metadata": {},
   "outputs": [
    {
     "data": {
      "text/html": [
       "<div>\n",
       "<style scoped>\n",
       "    .dataframe tbody tr th:only-of-type {\n",
       "        vertical-align: middle;\n",
       "    }\n",
       "\n",
       "    .dataframe tbody tr th {\n",
       "        vertical-align: top;\n",
       "    }\n",
       "\n",
       "    .dataframe thead th {\n",
       "        text-align: right;\n",
       "    }\n",
       "</style>\n",
       "<table border=\"1\" class=\"dataframe\">\n",
       "  <thead>\n",
       "    <tr style=\"text-align: right;\">\n",
       "      <th></th>\n",
       "      <th>OpenPrice</th>\n",
       "      <th>HighPrice</th>\n",
       "      <th>LowPrice</th>\n",
       "      <th>ClosePrice</th>\n",
       "      <th>Volume</th>\n",
       "      <th>NA</th>\n",
       "    </tr>\n",
       "  </thead>\n",
       "  <tbody>\n",
       "    <tr>\n",
       "      <th>count</th>\n",
       "      <td>174.000000</td>\n",
       "      <td>174.000000</td>\n",
       "      <td>174.000000</td>\n",
       "      <td>174.000000</td>\n",
       "      <td>174.000000</td>\n",
       "      <td>1.740000e+02</td>\n",
       "    </tr>\n",
       "    <tr>\n",
       "      <th>mean</th>\n",
       "      <td>1123.435402</td>\n",
       "      <td>1131.696954</td>\n",
       "      <td>1116.242874</td>\n",
       "      <td>1124.322069</td>\n",
       "      <td>711.935529</td>\n",
       "      <td>8.193271e+05</td>\n",
       "    </tr>\n",
       "    <tr>\n",
       "      <th>std</th>\n",
       "      <td>65.231175</td>\n",
       "      <td>66.351660</td>\n",
       "      <td>64.330085</td>\n",
       "      <td>65.556212</td>\n",
       "      <td>1199.154889</td>\n",
       "      <td>1.394704e+06</td>\n",
       "    </tr>\n",
       "    <tr>\n",
       "      <th>min</th>\n",
       "      <td>1036.710000</td>\n",
       "      <td>1042.170000</td>\n",
       "      <td>1026.520000</td>\n",
       "      <td>1036.720000</td>\n",
       "      <td>62.209495</td>\n",
       "      <td>6.595292e+04</td>\n",
       "    </tr>\n",
       "    <tr>\n",
       "      <th>25%</th>\n",
       "      <td>1062.290000</td>\n",
       "      <td>1069.657500</td>\n",
       "      <td>1056.912500</td>\n",
       "      <td>1062.467500</td>\n",
       "      <td>206.028016</td>\n",
       "      <td>2.238869e+05</td>\n",
       "    </tr>\n",
       "    <tr>\n",
       "      <th>50%</th>\n",
       "      <td>1123.910000</td>\n",
       "      <td>1132.520000</td>\n",
       "      <td>1114.505000</td>\n",
       "      <td>1125.365000</td>\n",
       "      <td>352.596306</td>\n",
       "      <td>3.996816e+05</td>\n",
       "    </tr>\n",
       "    <tr>\n",
       "      <th>75%</th>\n",
       "      <td>1166.612500</td>\n",
       "      <td>1175.975000</td>\n",
       "      <td>1162.977500</td>\n",
       "      <td>1168.647500</td>\n",
       "      <td>651.930918</td>\n",
       "      <td>7.742630e+05</td>\n",
       "    </tr>\n",
       "    <tr>\n",
       "      <th>max</th>\n",
       "      <td>1262.210000</td>\n",
       "      <td>1275.040000</td>\n",
       "      <td>1252.260000</td>\n",
       "      <td>1261.500000</td>\n",
       "      <td>10209.049686</td>\n",
       "      <td>1.185464e+07</td>\n",
       "    </tr>\n",
       "  </tbody>\n",
       "</table>\n",
       "</div>"
      ],
      "text/plain": [
       "         OpenPrice    HighPrice     LowPrice   ClosePrice        Volume  \\\n",
       "count   174.000000   174.000000   174.000000   174.000000    174.000000   \n",
       "mean   1123.435402  1131.696954  1116.242874  1124.322069    711.935529   \n",
       "std      65.231175    66.351660    64.330085    65.556212   1199.154889   \n",
       "min    1036.710000  1042.170000  1026.520000  1036.720000     62.209495   \n",
       "25%    1062.290000  1069.657500  1056.912500  1062.467500    206.028016   \n",
       "50%    1123.910000  1132.520000  1114.505000  1125.365000    352.596306   \n",
       "75%    1166.612500  1175.975000  1162.977500  1168.647500    651.930918   \n",
       "max    1262.210000  1275.040000  1252.260000  1261.500000  10209.049686   \n",
       "\n",
       "                 NA  \n",
       "count  1.740000e+02  \n",
       "mean   8.193271e+05  \n",
       "std    1.394704e+06  \n",
       "min    6.595292e+04  \n",
       "25%    2.238869e+05  \n",
       "50%    3.996816e+05  \n",
       "75%    7.742630e+05  \n",
       "max    1.185464e+07  "
      ]
     },
     "execution_count": 36,
     "metadata": {},
     "output_type": "execute_result"
    }
   ],
   "source": [
    "eth.describe()"
   ]
  },
  {
   "cell_type": "markdown",
   "id": "cce0a5f7-244a-4895-a5c2-a8a65cc7ee5c",
   "metadata": {},
   "source": [
    "## Dynamic plots with Bokeh"
   ]
  },
  {
   "cell_type": "markdown",
   "id": "639b1d07-dd90-42c4-9666-e94f3bd51d9d",
   "metadata": {},
   "source": [
    "#### We can use a different library to create dynamic and interactive graphs, better suited for analyzing your visualized data."
   ]
  },
  {
   "cell_type": "markdown",
   "id": "e7d9c6f7-389d-4422-bca1-882264ac5a43",
   "metadata": {},
   "source": [
    "First, let's import:"
   ]
  },
  {
   "cell_type": "code",
   "execution_count": 38,
   "id": "02f00e70-235f-419d-a4cf-9a57625f9e28",
   "metadata": {},
   "outputs": [],
   "source": [
    "from bokeh.plotting import figure, output_file, show\n",
    "from bokeh.io import output_notebook"
   ]
  },
  {
   "cell_type": "code",
   "execution_count": 39,
   "id": "c1b0d653-9182-4f5b-82c3-3fe80ad31ba8",
   "metadata": {},
   "outputs": [
    {
     "data": {
      "text/html": [
       "<div class=\"bk-root\">\n",
       "        <a href=\"https://bokeh.org\" target=\"_blank\" class=\"bk-logo bk-logo-small bk-logo-notebook\"></a>\n",
       "        <span id=\"1002\">Loading BokehJS ...</span>\n",
       "    </div>\n"
      ]
     },
     "metadata": {},
     "output_type": "display_data"
    },
    {
     "data": {
      "application/javascript": [
       "(function(root) {\n",
       "  function now() {\n",
       "    return new Date();\n",
       "  }\n",
       "\n",
       "  const force = true;\n",
       "\n",
       "  if (typeof root._bokeh_onload_callbacks === \"undefined\" || force === true) {\n",
       "    root._bokeh_onload_callbacks = [];\n",
       "    root._bokeh_is_loading = undefined;\n",
       "  }\n",
       "\n",
       "const JS_MIME_TYPE = 'application/javascript';\n",
       "  const HTML_MIME_TYPE = 'text/html';\n",
       "  const EXEC_MIME_TYPE = 'application/vnd.bokehjs_exec.v0+json';\n",
       "  const CLASS_NAME = 'output_bokeh rendered_html';\n",
       "\n",
       "  /**\n",
       "   * Render data to the DOM node\n",
       "   */\n",
       "  function render(props, node) {\n",
       "    const script = document.createElement(\"script\");\n",
       "    node.appendChild(script);\n",
       "  }\n",
       "\n",
       "  /**\n",
       "   * Handle when an output is cleared or removed\n",
       "   */\n",
       "  function handleClearOutput(event, handle) {\n",
       "    const cell = handle.cell;\n",
       "\n",
       "    const id = cell.output_area._bokeh_element_id;\n",
       "    const server_id = cell.output_area._bokeh_server_id;\n",
       "    // Clean up Bokeh references\n",
       "    if (id != null && id in Bokeh.index) {\n",
       "      Bokeh.index[id].model.document.clear();\n",
       "      delete Bokeh.index[id];\n",
       "    }\n",
       "\n",
       "    if (server_id !== undefined) {\n",
       "      // Clean up Bokeh references\n",
       "      const cmd_clean = \"from bokeh.io.state import curstate; print(curstate().uuid_to_server['\" + server_id + \"'].get_sessions()[0].document.roots[0]._id)\";\n",
       "      cell.notebook.kernel.execute(cmd_clean, {\n",
       "        iopub: {\n",
       "          output: function(msg) {\n",
       "            const id = msg.content.text.trim();\n",
       "            if (id in Bokeh.index) {\n",
       "              Bokeh.index[id].model.document.clear();\n",
       "              delete Bokeh.index[id];\n",
       "            }\n",
       "          }\n",
       "        }\n",
       "      });\n",
       "      // Destroy server and session\n",
       "      const cmd_destroy = \"import bokeh.io.notebook as ion; ion.destroy_server('\" + server_id + \"')\";\n",
       "      cell.notebook.kernel.execute(cmd_destroy);\n",
       "    }\n",
       "  }\n",
       "\n",
       "  /**\n",
       "   * Handle when a new output is added\n",
       "   */\n",
       "  function handleAddOutput(event, handle) {\n",
       "    const output_area = handle.output_area;\n",
       "    const output = handle.output;\n",
       "\n",
       "    // limit handleAddOutput to display_data with EXEC_MIME_TYPE content only\n",
       "    if ((output.output_type != \"display_data\") || (!Object.prototype.hasOwnProperty.call(output.data, EXEC_MIME_TYPE))) {\n",
       "      return\n",
       "    }\n",
       "\n",
       "    const toinsert = output_area.element.find(\".\" + CLASS_NAME.split(' ')[0]);\n",
       "\n",
       "    if (output.metadata[EXEC_MIME_TYPE][\"id\"] !== undefined) {\n",
       "      toinsert[toinsert.length - 1].firstChild.textContent = output.data[JS_MIME_TYPE];\n",
       "      // store reference to embed id on output_area\n",
       "      output_area._bokeh_element_id = output.metadata[EXEC_MIME_TYPE][\"id\"];\n",
       "    }\n",
       "    if (output.metadata[EXEC_MIME_TYPE][\"server_id\"] !== undefined) {\n",
       "      const bk_div = document.createElement(\"div\");\n",
       "      bk_div.innerHTML = output.data[HTML_MIME_TYPE];\n",
       "      const script_attrs = bk_div.children[0].attributes;\n",
       "      for (let i = 0; i < script_attrs.length; i++) {\n",
       "        toinsert[toinsert.length - 1].firstChild.setAttribute(script_attrs[i].name, script_attrs[i].value);\n",
       "        toinsert[toinsert.length - 1].firstChild.textContent = bk_div.children[0].textContent\n",
       "      }\n",
       "      // store reference to server id on output_area\n",
       "      output_area._bokeh_server_id = output.metadata[EXEC_MIME_TYPE][\"server_id\"];\n",
       "    }\n",
       "  }\n",
       "\n",
       "  function register_renderer(events, OutputArea) {\n",
       "\n",
       "    function append_mime(data, metadata, element) {\n",
       "      // create a DOM node to render to\n",
       "      const toinsert = this.create_output_subarea(\n",
       "        metadata,\n",
       "        CLASS_NAME,\n",
       "        EXEC_MIME_TYPE\n",
       "      );\n",
       "      this.keyboard_manager.register_events(toinsert);\n",
       "      // Render to node\n",
       "      const props = {data: data, metadata: metadata[EXEC_MIME_TYPE]};\n",
       "      render(props, toinsert[toinsert.length - 1]);\n",
       "      element.append(toinsert);\n",
       "      return toinsert\n",
       "    }\n",
       "\n",
       "    /* Handle when an output is cleared or removed */\n",
       "    events.on('clear_output.CodeCell', handleClearOutput);\n",
       "    events.on('delete.Cell', handleClearOutput);\n",
       "\n",
       "    /* Handle when a new output is added */\n",
       "    events.on('output_added.OutputArea', handleAddOutput);\n",
       "\n",
       "    /**\n",
       "     * Register the mime type and append_mime function with output_area\n",
       "     */\n",
       "    OutputArea.prototype.register_mime_type(EXEC_MIME_TYPE, append_mime, {\n",
       "      /* Is output safe? */\n",
       "      safe: true,\n",
       "      /* Index of renderer in `output_area.display_order` */\n",
       "      index: 0\n",
       "    });\n",
       "  }\n",
       "\n",
       "  // register the mime type if in Jupyter Notebook environment and previously unregistered\n",
       "  if (root.Jupyter !== undefined) {\n",
       "    const events = require('base/js/events');\n",
       "    const OutputArea = require('notebook/js/outputarea').OutputArea;\n",
       "\n",
       "    if (OutputArea.prototype.mime_types().indexOf(EXEC_MIME_TYPE) == -1) {\n",
       "      register_renderer(events, OutputArea);\n",
       "    }\n",
       "  }\n",
       "  if (typeof (root._bokeh_timeout) === \"undefined\" || force === true) {\n",
       "    root._bokeh_timeout = Date.now() + 5000;\n",
       "    root._bokeh_failed_load = false;\n",
       "  }\n",
       "\n",
       "  const NB_LOAD_WARNING = {'data': {'text/html':\n",
       "     \"<div style='background-color: #fdd'>\\n\"+\n",
       "     \"<p>\\n\"+\n",
       "     \"BokehJS does not appear to have successfully loaded. If loading BokehJS from CDN, this \\n\"+\n",
       "     \"may be due to a slow or bad network connection. Possible fixes:\\n\"+\n",
       "     \"</p>\\n\"+\n",
       "     \"<ul>\\n\"+\n",
       "     \"<li>re-rerun `output_notebook()` to attempt to load from CDN again, or</li>\\n\"+\n",
       "     \"<li>use INLINE resources instead, as so:</li>\\n\"+\n",
       "     \"</ul>\\n\"+\n",
       "     \"<code>\\n\"+\n",
       "     \"from bokeh.resources import INLINE\\n\"+\n",
       "     \"output_notebook(resources=INLINE)\\n\"+\n",
       "     \"</code>\\n\"+\n",
       "     \"</div>\"}};\n",
       "\n",
       "  function display_loaded() {\n",
       "    const el = document.getElementById(\"1002\");\n",
       "    if (el != null) {\n",
       "      el.textContent = \"BokehJS is loading...\";\n",
       "    }\n",
       "    if (root.Bokeh !== undefined) {\n",
       "      if (el != null) {\n",
       "        el.textContent = \"BokehJS \" + root.Bokeh.version + \" successfully loaded.\";\n",
       "      }\n",
       "    } else if (Date.now() < root._bokeh_timeout) {\n",
       "      setTimeout(display_loaded, 100)\n",
       "    }\n",
       "  }\n",
       "\n",
       "  function run_callbacks() {\n",
       "    try {\n",
       "      root._bokeh_onload_callbacks.forEach(function(callback) {\n",
       "        if (callback != null)\n",
       "          callback();\n",
       "      });\n",
       "    } finally {\n",
       "      delete root._bokeh_onload_callbacks\n",
       "    }\n",
       "    console.debug(\"Bokeh: all callbacks have finished\");\n",
       "  }\n",
       "\n",
       "  function load_libs(css_urls, js_urls, callback) {\n",
       "    if (css_urls == null) css_urls = [];\n",
       "    if (js_urls == null) js_urls = [];\n",
       "\n",
       "    root._bokeh_onload_callbacks.push(callback);\n",
       "    if (root._bokeh_is_loading > 0) {\n",
       "      console.debug(\"Bokeh: BokehJS is being loaded, scheduling callback at\", now());\n",
       "      return null;\n",
       "    }\n",
       "    if (js_urls == null || js_urls.length === 0) {\n",
       "      run_callbacks();\n",
       "      return null;\n",
       "    }\n",
       "    console.debug(\"Bokeh: BokehJS not loaded, scheduling load and callback at\", now());\n",
       "    root._bokeh_is_loading = css_urls.length + js_urls.length;\n",
       "\n",
       "    function on_load() {\n",
       "      root._bokeh_is_loading--;\n",
       "      if (root._bokeh_is_loading === 0) {\n",
       "        console.debug(\"Bokeh: all BokehJS libraries/stylesheets loaded\");\n",
       "        run_callbacks()\n",
       "      }\n",
       "    }\n",
       "\n",
       "    function on_error(url) {\n",
       "      console.error(\"failed to load \" + url);\n",
       "    }\n",
       "\n",
       "    for (let i = 0; i < css_urls.length; i++) {\n",
       "      const url = css_urls[i];\n",
       "      const element = document.createElement(\"link\");\n",
       "      element.onload = on_load;\n",
       "      element.onerror = on_error.bind(null, url);\n",
       "      element.rel = \"stylesheet\";\n",
       "      element.type = \"text/css\";\n",
       "      element.href = url;\n",
       "      console.debug(\"Bokeh: injecting link tag for BokehJS stylesheet: \", url);\n",
       "      document.body.appendChild(element);\n",
       "    }\n",
       "\n",
       "    for (let i = 0; i < js_urls.length; i++) {\n",
       "      const url = js_urls[i];\n",
       "      const element = document.createElement('script');\n",
       "      element.onload = on_load;\n",
       "      element.onerror = on_error.bind(null, url);\n",
       "      element.async = false;\n",
       "      element.src = url;\n",
       "      console.debug(\"Bokeh: injecting script tag for BokehJS library: \", url);\n",
       "      document.head.appendChild(element);\n",
       "    }\n",
       "  };\n",
       "\n",
       "  function inject_raw_css(css) {\n",
       "    const element = document.createElement(\"style\");\n",
       "    element.appendChild(document.createTextNode(css));\n",
       "    document.body.appendChild(element);\n",
       "  }\n",
       "\n",
       "  const js_urls = [\"https://cdn.bokeh.org/bokeh/release/bokeh-2.4.3.min.js\", \"https://cdn.bokeh.org/bokeh/release/bokeh-gl-2.4.3.min.js\", \"https://cdn.bokeh.org/bokeh/release/bokeh-widgets-2.4.3.min.js\", \"https://cdn.bokeh.org/bokeh/release/bokeh-tables-2.4.3.min.js\", \"https://cdn.bokeh.org/bokeh/release/bokeh-mathjax-2.4.3.min.js\"];\n",
       "  const css_urls = [];\n",
       "\n",
       "  const inline_js = [    function(Bokeh) {\n",
       "      Bokeh.set_log_level(\"info\");\n",
       "    },\n",
       "function(Bokeh) {\n",
       "    }\n",
       "  ];\n",
       "\n",
       "  function run_inline_js() {\n",
       "    if (root.Bokeh !== undefined || force === true) {\n",
       "          for (let i = 0; i < inline_js.length; i++) {\n",
       "      inline_js[i].call(root, root.Bokeh);\n",
       "    }\n",
       "if (force === true) {\n",
       "        display_loaded();\n",
       "      }} else if (Date.now() < root._bokeh_timeout) {\n",
       "      setTimeout(run_inline_js, 100);\n",
       "    } else if (!root._bokeh_failed_load) {\n",
       "      console.log(\"Bokeh: BokehJS failed to load within specified timeout.\");\n",
       "      root._bokeh_failed_load = true;\n",
       "    } else if (force !== true) {\n",
       "      const cell = $(document.getElementById(\"1002\")).parents('.cell').data().cell;\n",
       "      cell.output_area.append_execute_result(NB_LOAD_WARNING)\n",
       "    }\n",
       "  }\n",
       "\n",
       "  if (root._bokeh_is_loading === 0) {\n",
       "    console.debug(\"Bokeh: BokehJS loaded, going straight to plotting\");\n",
       "    run_inline_js();\n",
       "  } else {\n",
       "    load_libs(css_urls, js_urls, function() {\n",
       "      console.debug(\"Bokeh: BokehJS plotting callback run at\", now());\n",
       "      run_inline_js();\n",
       "    });\n",
       "  }\n",
       "}(window));"
      ],
      "application/vnd.bokehjs_load.v0+json": "(function(root) {\n  function now() {\n    return new Date();\n  }\n\n  const force = true;\n\n  if (typeof root._bokeh_onload_callbacks === \"undefined\" || force === true) {\n    root._bokeh_onload_callbacks = [];\n    root._bokeh_is_loading = undefined;\n  }\n\n\n  if (typeof (root._bokeh_timeout) === \"undefined\" || force === true) {\n    root._bokeh_timeout = Date.now() + 5000;\n    root._bokeh_failed_load = false;\n  }\n\n  const NB_LOAD_WARNING = {'data': {'text/html':\n     \"<div style='background-color: #fdd'>\\n\"+\n     \"<p>\\n\"+\n     \"BokehJS does not appear to have successfully loaded. If loading BokehJS from CDN, this \\n\"+\n     \"may be due to a slow or bad network connection. Possible fixes:\\n\"+\n     \"</p>\\n\"+\n     \"<ul>\\n\"+\n     \"<li>re-rerun `output_notebook()` to attempt to load from CDN again, or</li>\\n\"+\n     \"<li>use INLINE resources instead, as so:</li>\\n\"+\n     \"</ul>\\n\"+\n     \"<code>\\n\"+\n     \"from bokeh.resources import INLINE\\n\"+\n     \"output_notebook(resources=INLINE)\\n\"+\n     \"</code>\\n\"+\n     \"</div>\"}};\n\n  function display_loaded() {\n    const el = document.getElementById(\"1002\");\n    if (el != null) {\n      el.textContent = \"BokehJS is loading...\";\n    }\n    if (root.Bokeh !== undefined) {\n      if (el != null) {\n        el.textContent = \"BokehJS \" + root.Bokeh.version + \" successfully loaded.\";\n      }\n    } else if (Date.now() < root._bokeh_timeout) {\n      setTimeout(display_loaded, 100)\n    }\n  }\n\n  function run_callbacks() {\n    try {\n      root._bokeh_onload_callbacks.forEach(function(callback) {\n        if (callback != null)\n          callback();\n      });\n    } finally {\n      delete root._bokeh_onload_callbacks\n    }\n    console.debug(\"Bokeh: all callbacks have finished\");\n  }\n\n  function load_libs(css_urls, js_urls, callback) {\n    if (css_urls == null) css_urls = [];\n    if (js_urls == null) js_urls = [];\n\n    root._bokeh_onload_callbacks.push(callback);\n    if (root._bokeh_is_loading > 0) {\n      console.debug(\"Bokeh: BokehJS is being loaded, scheduling callback at\", now());\n      return null;\n    }\n    if (js_urls == null || js_urls.length === 0) {\n      run_callbacks();\n      return null;\n    }\n    console.debug(\"Bokeh: BokehJS not loaded, scheduling load and callback at\", now());\n    root._bokeh_is_loading = css_urls.length + js_urls.length;\n\n    function on_load() {\n      root._bokeh_is_loading--;\n      if (root._bokeh_is_loading === 0) {\n        console.debug(\"Bokeh: all BokehJS libraries/stylesheets loaded\");\n        run_callbacks()\n      }\n    }\n\n    function on_error(url) {\n      console.error(\"failed to load \" + url);\n    }\n\n    for (let i = 0; i < css_urls.length; i++) {\n      const url = css_urls[i];\n      const element = document.createElement(\"link\");\n      element.onload = on_load;\n      element.onerror = on_error.bind(null, url);\n      element.rel = \"stylesheet\";\n      element.type = \"text/css\";\n      element.href = url;\n      console.debug(\"Bokeh: injecting link tag for BokehJS stylesheet: \", url);\n      document.body.appendChild(element);\n    }\n\n    for (let i = 0; i < js_urls.length; i++) {\n      const url = js_urls[i];\n      const element = document.createElement('script');\n      element.onload = on_load;\n      element.onerror = on_error.bind(null, url);\n      element.async = false;\n      element.src = url;\n      console.debug(\"Bokeh: injecting script tag for BokehJS library: \", url);\n      document.head.appendChild(element);\n    }\n  };\n\n  function inject_raw_css(css) {\n    const element = document.createElement(\"style\");\n    element.appendChild(document.createTextNode(css));\n    document.body.appendChild(element);\n  }\n\n  const js_urls = [\"https://cdn.bokeh.org/bokeh/release/bokeh-2.4.3.min.js\", \"https://cdn.bokeh.org/bokeh/release/bokeh-gl-2.4.3.min.js\", \"https://cdn.bokeh.org/bokeh/release/bokeh-widgets-2.4.3.min.js\", \"https://cdn.bokeh.org/bokeh/release/bokeh-tables-2.4.3.min.js\", \"https://cdn.bokeh.org/bokeh/release/bokeh-mathjax-2.4.3.min.js\"];\n  const css_urls = [];\n\n  const inline_js = [    function(Bokeh) {\n      Bokeh.set_log_level(\"info\");\n    },\nfunction(Bokeh) {\n    }\n  ];\n\n  function run_inline_js() {\n    if (root.Bokeh !== undefined || force === true) {\n          for (let i = 0; i < inline_js.length; i++) {\n      inline_js[i].call(root, root.Bokeh);\n    }\nif (force === true) {\n        display_loaded();\n      }} else if (Date.now() < root._bokeh_timeout) {\n      setTimeout(run_inline_js, 100);\n    } else if (!root._bokeh_failed_load) {\n      console.log(\"Bokeh: BokehJS failed to load within specified timeout.\");\n      root._bokeh_failed_load = true;\n    } else if (force !== true) {\n      const cell = $(document.getElementById(\"1002\")).parents('.cell').data().cell;\n      cell.output_area.append_execute_result(NB_LOAD_WARNING)\n    }\n  }\n\n  if (root._bokeh_is_loading === 0) {\n    console.debug(\"Bokeh: BokehJS loaded, going straight to plotting\");\n    run_inline_js();\n  } else {\n    load_libs(css_urls, js_urls, function() {\n      console.debug(\"Bokeh: BokehJS plotting callback run at\", now());\n      run_inline_js();\n    });\n  }\n}(window));"
     },
     "metadata": {},
     "output_type": "display_data"
    }
   ],
   "source": [
    "output_notebook()"
   ]
  },
  {
   "cell_type": "markdown",
   "id": "bd470dd6-d50c-4349-9bb2-946ba5590b32",
   "metadata": {},
   "source": [
    "And now we can generate the plot:"
   ]
  },
  {
   "cell_type": "code",
   "execution_count": 42,
   "id": "b460d495-ada5-49b0-b266-b98c8f19ed56",
   "metadata": {},
   "outputs": [
    {
     "data": {
      "text/html": [
       "\n",
       "  <div class=\"bk-root\" id=\"0223ca44-102c-4ef4-8fc1-dec9d8918edd\" data-root-id=\"1198\"></div>\n"
      ]
     },
     "metadata": {},
     "output_type": "display_data"
    },
    {
     "data": {
      "application/javascript": [
       "(function(root) {\n",
       "  function embed_document(root) {\n",
       "  const docs_json = {\"78019bc1-532d-4f22-9bfa-e552bd8704fa\":{\"defs\":[],\"roots\":{\"references\":[{\"attributes\":{\"below\":[{\"id\":\"1209\"}],\"center\":[{\"id\":\"1212\"},{\"id\":\"1216\"},{\"id\":\"1259\"}],\"left\":[{\"id\":\"1213\"}],\"renderers\":[{\"id\":\"1235\"}],\"title\":{\"id\":\"1199\"},\"toolbar\":{\"id\":\"1224\"},\"width\":800,\"x_range\":{\"id\":\"1201\"},\"x_scale\":{\"id\":\"1205\"},\"y_range\":{\"id\":\"1203\"},\"y_scale\":{\"id\":\"1207\"}},\"id\":\"1198\",\"subtype\":\"Figure\",\"type\":\"Plot\"},{\"attributes\":{},\"id\":\"1220\",\"type\":\"SaveTool\"},{\"attributes\":{\"bottom_units\":\"screen\",\"coordinates\":null,\"fill_alpha\":0.5,\"fill_color\":\"lightgrey\",\"group\":null,\"left_units\":\"screen\",\"level\":\"overlay\",\"line_alpha\":1.0,\"line_color\":\"black\",\"line_dash\":[4,4],\"line_width\":2,\"right_units\":\"screen\",\"syncable\":false,\"top_units\":\"screen\"},\"id\":\"1223\",\"type\":\"BoxAnnotation\"},{\"attributes\":{},\"id\":\"1245\",\"type\":\"Selection\"},{\"attributes\":{},\"id\":\"1222\",\"type\":\"HelpTool\"},{\"attributes\":{\"axis_label\":\"Price\",\"coordinates\":null,\"formatter\":{\"id\":\"1239\"},\"group\":null,\"major_label_policy\":{\"id\":\"1240\"},\"ticker\":{\"id\":\"1214\"}},\"id\":\"1213\",\"type\":\"LinearAxis\"},{\"attributes\":{\"coordinates\":null,\"data_source\":{\"id\":\"1231\"},\"glyph\":{\"id\":\"1232\"},\"group\":null,\"hover_glyph\":null,\"muted_glyph\":{\"id\":\"1234\"},\"nonselection_glyph\":{\"id\":\"1233\"},\"view\":{\"id\":\"1236\"}},\"id\":\"1235\",\"type\":\"GlyphRenderer\"},{\"attributes\":{},\"id\":\"1217\",\"type\":\"PanTool\"},{\"attributes\":{},\"id\":\"1239\",\"type\":\"BasicTickFormatter\"},{\"attributes\":{\"line_alpha\":0.2,\"line_color\":\"#f2a900\",\"x\":{\"field\":\"x\"},\"y\":{\"field\":\"y\"}},\"id\":\"1234\",\"type\":\"Line\"},{\"attributes\":{\"mantissas\":[1,2,5],\"max_interval\":500.0,\"num_minor_ticks\":0},\"id\":\"1247\",\"type\":\"AdaptiveTicker\"},{\"attributes\":{},\"id\":\"1258\",\"type\":\"YearsTicker\"},{\"attributes\":{\"months\":[0,1,2,3,4,5,6,7,8,9,10,11]},\"id\":\"1254\",\"type\":\"MonthsTicker\"},{\"attributes\":{\"axis\":{\"id\":\"1213\"},\"coordinates\":null,\"dimension\":1,\"grid_line_alpha\":0.3,\"group\":null,\"ticker\":null},\"id\":\"1216\",\"type\":\"Grid\"},{\"attributes\":{\"tools\":[{\"id\":\"1217\"},{\"id\":\"1218\"},{\"id\":\"1219\"},{\"id\":\"1220\"},{\"id\":\"1221\"},{\"id\":\"1222\"}]},\"id\":\"1224\",\"type\":\"Toolbar\"},{\"attributes\":{},\"id\":\"1214\",\"type\":\"BasicTicker\"},{\"attributes\":{\"months\":[0,6]},\"id\":\"1257\",\"type\":\"MonthsTicker\"},{\"attributes\":{\"months\":[0,2,4,6,8,10]},\"id\":\"1255\",\"type\":\"MonthsTicker\"},{\"attributes\":{\"overlay\":{\"id\":\"1223\"}},\"id\":\"1219\",\"type\":\"BoxZoomTool\"},{\"attributes\":{\"months\":[0,4,8]},\"id\":\"1256\",\"type\":\"MonthsTicker\"},{\"attributes\":{\"label\":{\"value\":\"Bitcoin\"},\"renderers\":[{\"id\":\"1235\"}]},\"id\":\"1260\",\"type\":\"LegendItem\"},{\"attributes\":{},\"id\":\"1218\",\"type\":\"WheelZoomTool\"},{\"attributes\":{\"coordinates\":null,\"group\":null,\"items\":[{\"id\":\"1260\"}],\"location\":\"top_left\"},\"id\":\"1259\",\"type\":\"Legend\"},{\"attributes\":{\"base\":24,\"mantissas\":[1,2,4,6,8,12],\"max_interval\":43200000.0,\"min_interval\":3600000.0,\"num_minor_ticks\":0},\"id\":\"1249\",\"type\":\"AdaptiveTicker\"},{\"attributes\":{\"source\":{\"id\":\"1231\"}},\"id\":\"1236\",\"type\":\"CDSView\"},{\"attributes\":{\"line_color\":\"#f2a900\",\"x\":{\"field\":\"x\"},\"y\":{\"field\":\"y\"}},\"id\":\"1232\",\"type\":\"Line\"},{\"attributes\":{\"days\":[1,2,3,4,5,6,7,8,9,10,11,12,13,14,15,16,17,18,19,20,21,22,23,24,25,26,27,28,29,30,31]},\"id\":\"1250\",\"type\":\"DaysTicker\"},{\"attributes\":{\"base\":60,\"mantissas\":[1,2,5,10,15,20,30],\"max_interval\":1800000.0,\"min_interval\":1000.0,\"num_minor_ticks\":0},\"id\":\"1248\",\"type\":\"AdaptiveTicker\"},{\"attributes\":{\"days\":[1,15]},\"id\":\"1253\",\"type\":\"DaysTicker\"},{\"attributes\":{\"line_alpha\":0.1,\"line_color\":\"#f2a900\",\"x\":{\"field\":\"x\"},\"y\":{\"field\":\"y\"}},\"id\":\"1233\",\"type\":\"Line\"},{\"attributes\":{},\"id\":\"1203\",\"type\":\"DataRange1d\"},{\"attributes\":{},\"id\":\"1207\",\"type\":\"LinearScale\"},{\"attributes\":{\"axis\":{\"id\":\"1209\"},\"coordinates\":null,\"grid_line_alpha\":0.3,\"group\":null,\"ticker\":null},\"id\":\"1212\",\"type\":\"Grid\"},{\"attributes\":{\"num_minor_ticks\":5,\"tickers\":[{\"id\":\"1247\"},{\"id\":\"1248\"},{\"id\":\"1249\"},{\"id\":\"1250\"},{\"id\":\"1251\"},{\"id\":\"1252\"},{\"id\":\"1253\"},{\"id\":\"1254\"},{\"id\":\"1255\"},{\"id\":\"1256\"},{\"id\":\"1257\"},{\"id\":\"1258\"}]},\"id\":\"1210\",\"type\":\"DatetimeTicker\"},{\"attributes\":{\"axis_label\":\"Date\",\"coordinates\":null,\"formatter\":{\"id\":\"1242\"},\"group\":null,\"major_label_policy\":{\"id\":\"1243\"},\"ticker\":{\"id\":\"1210\"}},\"id\":\"1209\",\"type\":\"DatetimeAxis\"},{\"attributes\":{},\"id\":\"1243\",\"type\":\"AllLabels\"},{\"attributes\":{},\"id\":\"1205\",\"type\":\"LinearScale\"},{\"attributes\":{},\"id\":\"1242\",\"type\":\"DatetimeTickFormatter\"},{\"attributes\":{\"days\":[1,8,15,22]},\"id\":\"1252\",\"type\":\"DaysTicker\"},{\"attributes\":{\"coordinates\":null,\"group\":null,\"text\":\"Crypto Prices\"},\"id\":\"1199\",\"type\":\"Title\"},{\"attributes\":{},\"id\":\"1221\",\"type\":\"ResetTool\"},{\"attributes\":{\"data\":{\"x\":{\"__ndarray__\":\"AAAYaqQbeEIAAADZpxt4QgAA6EerG3hCAADQtq4beEIAALglsht4QgAAoJS1G3hCAACIA7kbeEIAAHByvBt4QgAAWOG/G3hCAABAUMMbeEIAACi/xht4QgAAEC7KG3hCAAD4nM0beEIAAOAL0Rt4QgAAyHrUG3hCAACw6dcbeEIAAJhY2xt4QgAAgMfeG3hCAABoNuIbeEIAAFCl5Rt4QgAAOBTpG3hCAAAgg+wbeEIAAAjy7xt4QgAA8GDzG3hCAADYz/YbeEIAAMA++ht4QgAAqK39G3hCAACQHAEceEIAAHiLBBx4QgAAYPoHHHhCAABIaQsceEIAADDYDhx4QgAAGEcSHHhCAAAAthUceEIAAOgkGRx4QgAA0JMcHHhCAAC4AiAceEIAAKBxIxx4QgAAiOAmHHhCAABwTyoceEIAAFi+LRx4QgAAQC0xHHhCAAAonDQceEIAABALOBx4QgAA+Hk7HHhCAADg6D4ceEIAAMhXQhx4QgAAsMZFHHhCAACYNUkceEIAAICkTBx4QgAAaBNQHHhCAABQglMceEIAADjxVhx4QgAAIGBaHHhCAAAIz10ceEIAAPA9YRx4QgAA2KxkHHhCAADAG2gceEIAAKiKaxx4QgAAkPluHHhCAAB4aHIceEIAAGDXdRx4QgAASEZ5HHhCAAAwtXwceEIAABgkgBx4QgAAAJODHHhCAADoAYcceEIAANBwihx4QgAAuN+NHHhCAACgTpEceEIAAIi9lBx4QgAAcCyYHHhCAABYm5sceEIAAEAKnxx4QgAAKHmiHHhCAAAQ6KUceEIAAPhWqRx4QgAA4MWsHHhCAADINLAceEIAALCjsxx4QgAAmBK3HHhCAACAgboceEIAAGjwvRx4QgAAUF/BHHhCAAA4zsQceEIAACA9yBx4QgAACKzLHHhCAADwGs8ceEIAANiJ0hx4QgAAwPjVHHhCAACoZ9kceEIAAJDW3Bx4QgAAeEXgHHhCAABgtOMceEIAAEgj5xx4QgAAMJLqHHhCAAAYAe4ceEIAAABw8Rx4QgAA6N70HHhCAADQTfgceEIAALi8+xx4QgAAoCv/HHhCAACImgIdeEIAAHAJBh14QgAAWHgJHXhCAABA5wwdeEIAAChWEB14QgAAEMUTHXhCAAD4MxcdeEIAAOCiGh14QgAAyBEeHXhCAACwgCEdeEIAAJjvJB14QgAAgF4oHXhCAABozSsdeEIAAFA8Lx14QgAAOKsyHXhCAAAgGjYdeEIAAAiJOR14QgAA8Pc8HXhCAADYZkAdeEIAAMDVQx14QgAAqERHHXhCAACQs0odeEIAAHgiTh14QgAAYJFRHXhCAABIAFUdeEIAADBvWB14QgAAGN5bHXhCAAAATV8deEIAAOi7Yh14QgAA0CpmHXhCAAC4mWkdeEIAAKAIbR14QgAAiHdwHXhCAABw5nMdeEIAAFhVdx14QgAAQMR6HXhCAAAoM34deEIAABCigR14QgAA+BCFHXhCAADgf4gdeEIAAMjuix14QgAAsF2PHXhCAACYzJIdeEIAAIA7lh14QgAAaKqZHXhCAABQGZ0deEIAADiIoB14QgAAIPejHXhCAAAIZqcdeEIAAPDUqh14QgAA2EOuHXhCAADAsrEdeEIAAKghtR14QgAAkJC4HXhCAAB4/7sdeEIAAGBuvx14QgAASN3CHXhCAAAwTMYdeEIAABi7yR14QgAAACrNHXhCAADomNAdeEIAANAH1B14QgAAuHbXHXhCAACg5dodeEIAAIhU3h14QgAAcMPhHXhCAABYMuUdeEIAAECh6B14QgAAKBDsHXhCAAAQf+8deEIAAPjt8h14QgAA4Fz2HXhC\",\"dtype\":\"float64\",\"order\":\"little\",\"shape\":[174]},\"y\":{\"__ndarray__\":\"cT0K19Ps0kDXo3A9WtPSQM3MzMz83dJArkfhehQE00DNzMzMvPfSQDMzMzPD59JAPQrXo6D30kCamZmZKezSQHsUrkfR09JASOF6FN7J0kDsUbgepbfSQM3MzMyswtJAPQrXo3C20kAK16NwbanSQFyPwvVYu9JASOF6FB7D0kCamZmZSbzSQFK4HoXrqNJASOF6FJ6f0kC4HoXrIbPSQK5H4XpEwtJA16NwPUq50kCamZmZid3SQEjhehTOy9JArkfheoTP0kA9CtejIMDSQLgehesx09JASOF6FM7T0kCPwvUoLNbSQEjhehSOy9JApHA9CjfK0kDXo3A9Ot3SQD0K16PQ2tJAAAAAABDH0kCamZmZqcXSQKRwPQqnt9JA16NwPQrK0kAUrkfhmsrSQD0K16MwxdJA4XoUrmeS0kCPwvUorKzSQFK4HoUbq9JAAAAAAICG0kC4HoXrgZDSQGZmZmZWl9JAzczMzEyf0kDD9Shc35rSQHE9CtfTgtJAuB6F60Gc0kDsUbgetZLSQBSuR+EKrdJAXI/C9Qi+0kCamZmZ6cDSQGZmZmYmBtNAMzMzMzP40kDsUbgeJdTSQLgehevR0tJACtejcJ3X0kC4HoXroczSQDMzMzOTwtJA16NwPXqe0kDhehSuh6TSQHsUrkdRqNJA9ihcj5Kr0kAAAAAAQKDSQEjhehQOqNJAZmZmZiat0kBmZmZmluPSQEjhehT+/9JAZmZmZvZS00CuR+F6VDvTQM3MzMwsENNAhetRuF4k00DsUbgeJU/TQHE9CtcjQ9NAhetRuH5q00ApXI/CJXDTQB+F61HoVtNAcT0K10NM00A9CtejAHvTQEjhehSeqNNAuB6F62G800BmZmZm1ufTQHsUrkeBz9NAFK5H4Yqv00BxPQrX88/TQHE9Ctfzx9NAexSuRxHP00DhehSux+PTQPYoXI8iuNNAXI/C9Xhn00DD9Shc/0jTQClcj8KlQtNAPQrXoyAL00DD9Shc3+bSQKRwPQoH7dJAUrgehVv+0kCkcD0Kdw3TQDMzMzMzFtNA7FG4HnU500BI4XoUrpzTQM3MzMys5tNArkfhetT200B7FK5HEd7TQMP1KFxP7tNAH4XrUSiy00BmZmZmtsLTQLgeheuxZtNAMzMzM1Ni00CkcD0KN3fTQFK4HoVrnNNA9ihcj8KO00BxPQrXk5rTQHE9CtezqtNAFK5H4Xqy00ApXI/CtbLTQEjhehS+pNNArkfhepSc00AzMzMzQ6vTQIXrUbiut9NAAAAAAMCz00ApXI/ClajTQJqZmZkpzNNA16NwPQrG00BI4XoULuPTQK5H4XrU0dNAFK5H4Zrm00CF61G47tvTQOF6FK53BNRAzczMzNwQ1EDD9ShcPwnUQLgehetxAdRA7FG4HvXq00CkcD0Kx/zTQNejcD2a7dNA16NwParN00A9CtejQNrTQClcj8KV8tNAKVyPwnUI1EApXI/C5Q/UQBSuR+FKAtRA7FG4HhUC1EApXI/CNe/TQIXrUbjuDNRAj8L1KHxr1ECF61G4nmHUQB+F61GoldRAXI/C9ehn1EAK16NwfdzUQNejcD3KUtVAMzMzM+Mc1UC4HoXroSfVQI/C9Sg8HtVAcT0K1+Mi1UAK16NwvTTVQEjhehQ+nNVAcT0K11N21UA9Ctej0JjVQAAAAAAgd9VAPQrXo0BZ1UAzMzMzI0/VQClcj8JlSdVAzczMzIzs1ECamZmZ2Q3VQB+F61GIBdVAj8L1KAwM1UCF61G4btzUQOxRuB4lwtRAzczMzKw41UDXo3A9ym7VQEjhehReKtVAZmZmZmY81UA9CtejgDfVQLgehevRPtVA\",\"dtype\":\"float64\",\"order\":\"little\",\"shape\":[174]}},\"selected\":{\"id\":\"1245\"},\"selection_policy\":{\"id\":\"1244\"}},\"id\":\"1231\",\"type\":\"ColumnDataSource\"},{\"attributes\":{\"days\":[1,4,7,10,13,16,19,22,25,28]},\"id\":\"1251\",\"type\":\"DaysTicker\"},{\"attributes\":{},\"id\":\"1240\",\"type\":\"AllLabels\"},{\"attributes\":{},\"id\":\"1201\",\"type\":\"DataRange1d\"},{\"attributes\":{},\"id\":\"1244\",\"type\":\"UnionRenderers\"}],\"root_ids\":[\"1198\"]},\"title\":\"Bokeh Application\",\"version\":\"2.4.3\"}};\n",
       "  const render_items = [{\"docid\":\"78019bc1-532d-4f22-9bfa-e552bd8704fa\",\"root_ids\":[\"1198\"],\"roots\":{\"1198\":\"0223ca44-102c-4ef4-8fc1-dec9d8918edd\"}}];\n",
       "  root.Bokeh.embed.embed_items_notebook(docs_json, render_items);\n",
       "  }\n",
       "  if (root.Bokeh !== undefined) {\n",
       "    embed_document(root);\n",
       "  } else {\n",
       "    let attempts = 0;\n",
       "    const timer = setInterval(function(root) {\n",
       "      if (root.Bokeh !== undefined) {\n",
       "        clearInterval(timer);\n",
       "        embed_document(root);\n",
       "      } else {\n",
       "        attempts++;\n",
       "        if (attempts > 100) {\n",
       "          clearInterval(timer);\n",
       "          console.log(\"Bokeh: ERROR: Unable to run BokehJS code because BokehJS library is missing\");\n",
       "        }\n",
       "      }\n",
       "    }, 10, root)\n",
       "  }\n",
       "})(window);"
      ],
      "application/vnd.bokehjs_exec.v0+json": ""
     },
     "metadata": {
      "application/vnd.bokehjs_exec.v0+json": {
       "id": "1198"
      }
     },
     "output_type": "display_data"
    }
   ],
   "source": [
    "p1 = figure(x_axis_type='datetime', title='Crypto Prices', width=800)\n",
    "p1.grid.grid_line_alpha=0.3\n",
    "p1.xaxis.axis_label= 'Date'\n",
    "p1.yaxis.axis_label = 'Price'\n",
    "\n",
    "p1.line(btc.index, btc['ClosePrice'], color='#f2a900', legend_label='Bitcoin')\n",
    "\n",
    "p1.legend.location = 'top_left'\n",
    "\n",
    "show(p1)"
   ]
  },
  {
   "cell_type": "markdown",
   "id": "d50ba3c9-dc1a-4811-a03a-3597a1f0f98e",
   "metadata": {},
   "source": [
    "While Bokeh is a cool tool, matplotlib still has significantly more tools available for use, and is often the go to."
   ]
  }
 ],
 "metadata": {
  "kernelspec": {
   "display_name": "Python 3 (ipykernel)",
   "language": "python",
   "name": "python3"
  },
  "language_info": {
   "codemirror_mode": {
    "name": "ipython",
    "version": 3
   },
   "file_extension": ".py",
   "mimetype": "text/x-python",
   "name": "python",
   "nbconvert_exporter": "python",
   "pygments_lexer": "ipython3",
   "version": "3.9.4"
  }
 },
 "nbformat": 4,
 "nbformat_minor": 5
}
