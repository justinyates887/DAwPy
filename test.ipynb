{
 "cells": [
  {
   "cell_type": "markdown",
   "id": "e5df6c77-b5f8-42d2-9d08-7f31429b730a",
   "metadata": {},
   "source": [
    "## This is Markdown"
   ]
  },
  {
   "cell_type": "code",
   "execution_count": 6,
   "id": "4ce8a688-b756-4244-9050-6472c86dab9f",
   "metadata": {},
   "outputs": [
    {
     "name": "stdout",
     "output_type": "stream",
     "text": [
      "This is Python\n"
     ]
    }
   ],
   "source": [
    "print('This is Python')"
   ]
  },
  {
   "cell_type": "markdown",
   "id": "6a26e4ad-7f5f-425f-8d6e-36cf3bbc721c",
   "metadata": {},
   "source": [
    "### So basically...\n",
    "\n",
    "A Jupyter notebook can:\n",
    "\n",
    ">Use text to explain your data\n",
    "\n",
    ">Explain data points, outliers, and other factors right next to the displayed data\n",
    "\n",
    ">Format a presentaion for the fidnings of analyzed data."
   ]
  },
  {
   "cell_type": "markdown",
   "id": "af9c5bbc-7d4d-4e66-b89e-b9391999b144",
   "metadata": {},
   "source": [
    "## Using python to display data:"
   ]
  },
  {
   "cell_type": "code",
   "execution_count": 7,
   "id": "ccf65232-47e4-4a53-9025-b16fb60c02b8",
   "metadata": {},
   "outputs": [
    {
     "data": {
      "image/png": "[encoded data removed]",
      "text/plain": [
       "<Figure size 432x288 with 1 Axes>"
      ]
     },
     "metadata": {
      "needs_background": "light"
     },
     "output_type": "display_data"
    }
   ],
   "source": [
    "import matplotlib.pyplot as plt\n",
    "\n",
    "x = [0,1,2,3,4,5,6,7,8,9,10]\n",
    "y = [0,1,2,3,4,5,6,7,8,9,10]\n",
    "\n",
    "plt.plot(x, y)\n",
    "plt.show()"
   ]
  },
  {
   "cell_type": "markdown",
   "id": "43688fb0-852d-4c7c-bd34-2c989bf8874e",
   "metadata": {},
   "source": [
    "# Let's Try a Real Example"
   ]
  },
  {
   "cell_type": "markdown",
   "id": "0c201f32-e15c-49f1-8b59-0f0604b92fe6",
   "metadata": {},
   "source": [
    "### First, we are going to import some dependancies that we will be using for this visual:"
   ]
  },
  {
   "cell_type": "code",
   "execution_count": 8,
   "id": "1e3fb8d1-a29c-4e42-89da-3eb02c2b9c35",
   "metadata": {},
   "outputs": [],
   "source": [
    "import requests\n",
    "import pandas as pd"
   ]
  },
  {
   "cell_type": "markdown",
   "id": "d8a0e09e-ead5-43be-bb4a-f7e018c7497c",
   "metadata": {},
   "source": [
    "Now, we are going to conenct to a free API in order to display historical price data for two major crypto-curriencies in the past seven days."
   ]
  },
  {
   "cell_type": "code",
   "execution_count": 9,
   "id": "cb297923-02c0-484d-b213-29bfef358ad5",
   "metadata": {},
   "outputs": [],
   "source": [
    "def get_historic_price(symbol, exchange='bitfinex', after='2022-07-01'):\n",
    "    url = 'https://api.cryptowat.ch/markets/{exchange}/{symbol}usd/ohlc'.format(\n",
    "        symbol=symbol, exchange=exchange)\n",
    "    resp = requests.get(url, params={\n",
    "        'periods': '3600',\n",
    "        'after': str(int(pd.Timestamp(after).timestamp()))\n",
    "    },)\n",
    "    resp.raise_for_status()\n",
    "    data = resp.json()\n",
    "    df = pd.DataFrame(data['result']['3600'], columns=[\n",
    "        'CloseTime', 'OpenPrice', 'HighPrice', 'LowPrice', 'ClosePrice', 'Volume', 'NA'\n",
    "    ])\n",
    "    df['CloseTime'] = pd.to_datetime(df['CloseTime'], unit='s')\n",
    "    df.set_index('CloseTime', inplace=True)\n",
    "    return df"
   ]
  },
  {
   "cell_type": "markdown",
   "id": "46ba6cdd-97ac-4776-9d57-e67eb5624ec5",
   "metadata": {},
   "source": [
    "Now we can pull the data"
   ]
  },
  {
   "cell_type": "code",
   "execution_count": 10,
   "id": "32f5d5ed-0f44-4397-ade4-c62453af2452",
   "metadata": {},
   "outputs": [
    {
     "data": {
      "text/plain": [
       "Timestamp('2022-07-04 07:28:19.922785')"
      ]
     },
     "execution_count": 10,
     "metadata": {},
     "output_type": "execute_result"
    }
   ],
   "source": [
    "last_week = (pd.Timestamp.now() - pd.offsets.Day(7))\n",
    "last_week"
   ]
  },
  {
   "cell_type": "code",
   "execution_count": 11,
   "id": "c5f61d26-1fb2-4baf-90c0-c2957846e019",
   "metadata": {},
   "outputs": [],
   "source": [
    "btc = get_historic_price('btc', 'bitstamp', after=last_week)"
   ]
  },
  {
   "cell_type": "code",
   "execution_count": 12,
   "id": "ae22a02e-aa3f-475c-8563-d3cd7ea471aa",
   "metadata": {},
   "outputs": [],
   "source": [
    "eth = get_historic_price('eth', 'bitstamp', after=last_week)"
   ]
  },
  {
   "cell_type": "markdown",
   "id": "1e7b4343-f8ad-419d-9a35-99940c1eb250",
   "metadata": {},
   "source": [
    "### Bitcoin:"
   ]
  },
  {
   "cell_type": "code",
   "execution_count": 13,
   "id": "f2c9ba47-cfe7-4aae-90d4-e5ef76212ce5",
   "metadata": {},
   "outputs": [
    {
     "data": {
      "text/html": [
       "<div>\n",
       "<style scoped>\n",
       "    .dataframe tbody tr th:only-of-type {\n",
       "        vertical-align: middle;\n",
       "    }\n",
       "\n",
       "    .dataframe tbody tr th {\n",
       "        vertical-align: top;\n",
       "    }\n",
       "\n",
       "    .dataframe thead th {\n",
       "        text-align: right;\n",
       "    }\n",
       "</style>\n",
       "<table border=\"1\" class=\"dataframe\">\n",
       "  <thead>\n",
       "    <tr style=\"text-align: right;\">\n",
       "      <th></th>\n",
       "      <th>OpenPrice</th>\n",
       "      <th>HighPrice</th>\n",
       "      <th>LowPrice</th>\n",
       "      <th>ClosePrice</th>\n",
       "      <th>Volume</th>\n",
       "      <th>NA</th>\n",
       "    </tr>\n",
       "    <tr>\n",
       "      <th>CloseTime</th>\n",
       "      <th></th>\n",
       "      <th></th>\n",
       "      <th></th>\n",
       "      <th></th>\n",
       "      <th></th>\n",
       "      <th></th>\n",
       "    </tr>\n",
       "  </thead>\n",
       "  <tbody>\n",
       "    <tr>\n",
       "      <th>2022-07-04 08:00:00</th>\n",
       "      <td>19068.65</td>\n",
       "      <td>19125.33</td>\n",
       "      <td>19061.24</td>\n",
       "      <td>19104.22</td>\n",
       "      <td>16.835378</td>\n",
       "      <td>3.214074e+05</td>\n",
       "    </tr>\n",
       "    <tr>\n",
       "      <th>2022-07-04 09:00:00</th>\n",
       "      <td>19107.22</td>\n",
       "      <td>19149.77</td>\n",
       "      <td>19092.77</td>\n",
       "      <td>19124.60</td>\n",
       "      <td>16.142345</td>\n",
       "      <td>3.086748e+05</td>\n",
       "    </tr>\n",
       "    <tr>\n",
       "      <th>2022-07-04 10:00:00</th>\n",
       "      <td>19121.95</td>\n",
       "      <td>19411.83</td>\n",
       "      <td>19115.95</td>\n",
       "      <td>19342.35</td>\n",
       "      <td>89.668752</td>\n",
       "      <td>1.728346e+06</td>\n",
       "    </tr>\n",
       "    <tr>\n",
       "      <th>2022-07-04 11:00:00</th>\n",
       "      <td>19354.35</td>\n",
       "      <td>19521.00</td>\n",
       "      <td>19354.35</td>\n",
       "      <td>19455.97</td>\n",
       "      <td>112.978221</td>\n",
       "      <td>2.196874e+06</td>\n",
       "    </tr>\n",
       "    <tr>\n",
       "      <th>2022-07-04 12:00:00</th>\n",
       "      <td>19456.20</td>\n",
       "      <td>19809.37</td>\n",
       "      <td>19438.05</td>\n",
       "      <td>19787.85</td>\n",
       "      <td>185.726377</td>\n",
       "      <td>3.645431e+06</td>\n",
       "    </tr>\n",
       "  </tbody>\n",
       "</table>\n",
       "</div>"
      ],
      "text/plain": [
       "                     OpenPrice  HighPrice  LowPrice  ClosePrice      Volume  \\\n",
       "CloseTime                                                                     \n",
       "2022-07-04 08:00:00   19068.65   19125.33  19061.24    19104.22   16.835378   \n",
       "2022-07-04 09:00:00   19107.22   19149.77  19092.77    19124.60   16.142345   \n",
       "2022-07-04 10:00:00   19121.95   19411.83  19115.95    19342.35   89.668752   \n",
       "2022-07-04 11:00:00   19354.35   19521.00  19354.35    19455.97  112.978221   \n",
       "2022-07-04 12:00:00   19456.20   19809.37  19438.05    19787.85  185.726377   \n",
       "\n",
       "                               NA  \n",
       "CloseTime                          \n",
       "2022-07-04 08:00:00  3.214074e+05  \n",
       "2022-07-04 09:00:00  3.086748e+05  \n",
       "2022-07-04 10:00:00  1.728346e+06  \n",
       "2022-07-04 11:00:00  2.196874e+06  \n",
       "2022-07-04 12:00:00  3.645431e+06  "
      ]
     },
     "execution_count": 13,
     "metadata": {},
     "output_type": "execute_result"
    }
   ],
   "source": [
    "btc.head()"
   ]
  },
  {
   "cell_type": "code",
   "execution_count": 14,
   "id": "53c8a384-fbee-457b-aeea-8acb10e91527",
   "metadata": {},
   "outputs": [
    {
     "data": {
      "text/plain": [
       "<AxesSubplot:xlabel='CloseTime'>"
      ]
     },
     "execution_count": 14,
     "metadata": {},
     "output_type": "execute_result"
    },
    {
     "data": {
      "image/png": "[encoded data removed]",
      "text/plain": [
       "<Figure size 1080x504 with 1 Axes>"
      ]
     },
     "metadata": {
      "needs_background": "light"
     },
     "output_type": "display_data"
    }
   ],
   "source": [
    "btc['ClosePrice'].plot(figsize=(15,7))"
   ]
  },
  {
   "cell_type": "code",
   "execution_count": 15,
   "id": "4ff8f15d-c375-4b3b-8b0e-7acf039e29f0",
   "metadata": {},
   "outputs": [
    {
     "data": {
      "text/html": [
       "<div>\n",
       "<style scoped>\n",
       "    .dataframe tbody tr th:only-of-type {\n",
       "        vertical-align: middle;\n",
       "    }\n",
       "\n",
       "    .dataframe tbody tr th {\n",
       "        vertical-align: top;\n",
       "    }\n",
       "\n",
       "    .dataframe thead th {\n",
       "        text-align: right;\n",
       "    }\n",
       "</style>\n",
       "<table border=\"1\" class=\"dataframe\">\n",
       "  <thead>\n",
       "    <tr style=\"text-align: right;\">\n",
       "      <th></th>\n",
       "      <th>OpenPrice</th>\n",
       "      <th>HighPrice</th>\n",
       "      <th>LowPrice</th>\n",
       "      <th>ClosePrice</th>\n",
       "      <th>Volume</th>\n",
       "      <th>NA</th>\n",
       "    </tr>\n",
       "  </thead>\n",
       "  <tbody>\n",
       "    <tr>\n",
       "      <th>count</th>\n",
       "      <td>174.000000</td>\n",
       "      <td>174.000000</td>\n",
       "      <td>174.000000</td>\n",
       "      <td>174.000000</td>\n",
       "      <td>174.000000</td>\n",
       "      <td>1.740000e+02</td>\n",
       "    </tr>\n",
       "    <tr>\n",
       "      <th>mean</th>\n",
       "      <td>20755.481207</td>\n",
       "      <td>20866.324713</td>\n",
       "      <td>20650.324828</td>\n",
       "      <td>20763.675575</td>\n",
       "      <td>93.417660</td>\n",
       "      <td>1.943638e+06</td>\n",
       "    </tr>\n",
       "    <tr>\n",
       "      <th>std</th>\n",
       "      <td>772.255980</td>\n",
       "      <td>767.181911</td>\n",
       "      <td>760.424396</td>\n",
       "      <td>760.220930</td>\n",
       "      <td>120.839060</td>\n",
       "      <td>2.575825e+06</td>\n",
       "    </tr>\n",
       "    <tr>\n",
       "      <th>min</th>\n",
       "      <td>19068.650000</td>\n",
       "      <td>19125.330000</td>\n",
       "      <td>19061.240000</td>\n",
       "      <td>19104.220000</td>\n",
       "      <td>8.835558</td>\n",
       "      <td>1.839543e+05</td>\n",
       "    </tr>\n",
       "    <tr>\n",
       "      <th>25%</th>\n",
       "      <td>20181.515000</td>\n",
       "      <td>20303.040000</td>\n",
       "      <td>20097.567500</td>\n",
       "      <td>20191.182500</td>\n",
       "      <td>26.189360</td>\n",
       "      <td>5.446668e+05</td>\n",
       "    </tr>\n",
       "    <tr>\n",
       "      <th>50%</th>\n",
       "      <td>20537.260000</td>\n",
       "      <td>20630.385000</td>\n",
       "      <td>20477.710000</td>\n",
       "      <td>20542.015000</td>\n",
       "      <td>56.913477</td>\n",
       "      <td>1.192663e+06</td>\n",
       "    </tr>\n",
       "    <tr>\n",
       "      <th>75%</th>\n",
       "      <td>21540.637500</td>\n",
       "      <td>21622.017500</td>\n",
       "      <td>21430.700000</td>\n",
       "      <td>21536.847500</td>\n",
       "      <td>108.901765</td>\n",
       "      <td>2.183770e+06</td>\n",
       "    </tr>\n",
       "    <tr>\n",
       "      <th>max</th>\n",
       "      <td>22142.710000</td>\n",
       "      <td>22401.000000</td>\n",
       "      <td>21952.540000</td>\n",
       "      <td>22128.970000</td>\n",
       "      <td>1035.380949</td>\n",
       "      <td>2.233666e+07</td>\n",
       "    </tr>\n",
       "  </tbody>\n",
       "</table>\n",
       "</div>"
      ],
      "text/plain": [
       "          OpenPrice     HighPrice      LowPrice    ClosePrice       Volume  \\\n",
       "count    174.000000    174.000000    174.000000    174.000000   174.000000   \n",
       "mean   20755.481207  20866.324713  20650.324828  20763.675575    93.417660   \n",
       "std      772.255980    767.181911    760.424396    760.220930   120.839060   \n",
       "min    19068.650000  19125.330000  19061.240000  19104.220000     8.835558   \n",
       "25%    20181.515000  20303.040000  20097.567500  20191.182500    26.189360   \n",
       "50%    20537.260000  20630.385000  20477.710000  20542.015000    56.913477   \n",
       "75%    21540.637500  21622.017500  21430.700000  21536.847500   108.901765   \n",
       "max    22142.710000  22401.000000  21952.540000  22128.970000  1035.380949   \n",
       "\n",
       "                 NA  \n",
       "count  1.740000e+02  \n",
       "mean   1.943638e+06  \n",
       "std    2.575825e+06  \n",
       "min    1.839543e+05  \n",
       "25%    5.446668e+05  \n",
       "50%    1.192663e+06  \n",
       "75%    2.183770e+06  \n",
       "max    2.233666e+07  "
      ]
     },
     "execution_count": 15,
     "metadata": {},
     "output_type": "execute_result"
    }
   ],
   "source": [
    "btc.describe()"
   ]
  },
  {
   "cell_type": "markdown",
   "id": "494421cc-4f63-4c4a-8276-ba6663aa59d9",
   "metadata": {
    "tags": []
   },
   "source": [
    "### Ethereum"
   ]
  },
  {
   "cell_type": "code",
   "execution_count": 16,
   "id": "fd4768d5-7426-4a12-bcaa-8340e3cf2074",
   "metadata": {},
   "outputs": [
    {
     "data": {
      "text/html": [
       "<div>\n",
       "<style scoped>\n",
       "    .dataframe tbody tr th:only-of-type {\n",
       "        vertical-align: middle;\n",
       "    }\n",
       "\n",
       "    .dataframe tbody tr th {\n",
       "        vertical-align: top;\n",
       "    }\n",
       "\n",
       "    .dataframe thead th {\n",
       "        text-align: right;\n",
       "    }\n",
       "</style>\n",
       "<table border=\"1\" class=\"dataframe\">\n",
       "  <thead>\n",
       "    <tr style=\"text-align: right;\">\n",
       "      <th></th>\n",
       "      <th>OpenPrice</th>\n",
       "      <th>HighPrice</th>\n",
       "      <th>LowPrice</th>\n",
       "      <th>ClosePrice</th>\n",
       "      <th>Volume</th>\n",
       "      <th>NA</th>\n",
       "    </tr>\n",
       "    <tr>\n",
       "      <th>CloseTime</th>\n",
       "      <th></th>\n",
       "      <th></th>\n",
       "      <th></th>\n",
       "      <th></th>\n",
       "      <th></th>\n",
       "      <th></th>\n",
       "    </tr>\n",
       "  </thead>\n",
       "  <tbody>\n",
       "    <tr>\n",
       "      <th>2022-07-04 08:00:00</th>\n",
       "      <td>1045.66</td>\n",
       "      <td>1050.92</td>\n",
       "      <td>1045.17</td>\n",
       "      <td>1049.53</td>\n",
       "      <td>214.865198</td>\n",
       "      <td>225153.824507</td>\n",
       "    </tr>\n",
       "    <tr>\n",
       "      <th>2022-07-04 09:00:00</th>\n",
       "      <td>1049.27</td>\n",
       "      <td>1052.72</td>\n",
       "      <td>1048.81</td>\n",
       "      <td>1049.78</td>\n",
       "      <td>335.804926</td>\n",
       "      <td>352942.028155</td>\n",
       "    </tr>\n",
       "    <tr>\n",
       "      <th>2022-07-04 10:00:00</th>\n",
       "      <td>1049.78</td>\n",
       "      <td>1071.02</td>\n",
       "      <td>1049.10</td>\n",
       "      <td>1067.57</td>\n",
       "      <td>495.762802</td>\n",
       "      <td>523730.903809</td>\n",
       "    </tr>\n",
       "    <tr>\n",
       "      <th>2022-07-04 11:00:00</th>\n",
       "      <td>1068.75</td>\n",
       "      <td>1078.29</td>\n",
       "      <td>1067.38</td>\n",
       "      <td>1074.01</td>\n",
       "      <td>251.815281</td>\n",
       "      <td>270025.732212</td>\n",
       "    </tr>\n",
       "    <tr>\n",
       "      <th>2022-07-04 12:00:00</th>\n",
       "      <td>1074.18</td>\n",
       "      <td>1104.46</td>\n",
       "      <td>1070.73</td>\n",
       "      <td>1099.09</td>\n",
       "      <td>869.620903</td>\n",
       "      <td>947607.969036</td>\n",
       "    </tr>\n",
       "  </tbody>\n",
       "</table>\n",
       "</div>"
      ],
      "text/plain": [
       "                     OpenPrice  HighPrice  LowPrice  ClosePrice      Volume  \\\n",
       "CloseTime                                                                     \n",
       "2022-07-04 08:00:00    1045.66    1050.92   1045.17     1049.53  214.865198   \n",
       "2022-07-04 09:00:00    1049.27    1052.72   1048.81     1049.78  335.804926   \n",
       "2022-07-04 10:00:00    1049.78    1071.02   1049.10     1067.57  495.762802   \n",
       "2022-07-04 11:00:00    1068.75    1078.29   1067.38     1074.01  251.815281   \n",
       "2022-07-04 12:00:00    1074.18    1104.46   1070.73     1099.09  869.620903   \n",
       "\n",
       "                                NA  \n",
       "CloseTime                           \n",
       "2022-07-04 08:00:00  225153.824507  \n",
       "2022-07-04 09:00:00  352942.028155  \n",
       "2022-07-04 10:00:00  523730.903809  \n",
       "2022-07-04 11:00:00  270025.732212  \n",
       "2022-07-04 12:00:00  947607.969036  "
      ]
     },
     "execution_count": 16,
     "metadata": {},
     "output_type": "execute_result"
    }
   ],
   "source": [
    "eth.head()"
   ]
  },
  {
   "cell_type": "code",
   "execution_count": 17,
   "id": "bbc5a8bb-ab46-4841-af2a-3269070a2fdb",
   "metadata": {},
   "outputs": [
    {
     "data": {
      "text/plain": [
       "<AxesSubplot:xlabel='CloseTime'>"
      ]
     },
     "execution_count": 17,
     "metadata": {},
     "output_type": "execute_result"
    },
    {
     "data": {
      "image/png": "[encoded data removed]",
      "text/plain": [
       "<Figure size 1080x504 with 1 Axes>"
      ]
     },
     "metadata": {
      "needs_background": "light"
     },
     "output_type": "display_data"
    }
   ],
   "source": [
    "eth['ClosePrice'].plot(figsize=(15,7))"
   ]
  },
  {
   "cell_type": "code",
   "execution_count": 18,
   "id": "d6064009-f7f8-4a03-82a5-211e76db0185",
   "metadata": {},
   "outputs": [
    {
     "data": {
      "text/html": [
       "<div>\n",
       "<style scoped>\n",
       "    .dataframe tbody tr th:only-of-type {\n",
       "        vertical-align: middle;\n",
       "    }\n",
       "\n",
       "    .dataframe tbody tr th {\n",
       "        vertical-align: top;\n",
       "    }\n",
       "\n",
       "    .dataframe thead th {\n",
       "        text-align: right;\n",
       "    }\n",
       "</style>\n",
       "<table border=\"1\" class=\"dataframe\">\n",
       "  <thead>\n",
       "    <tr style=\"text-align: right;\">\n",
       "      <th></th>\n",
       "      <th>OpenPrice</th>\n",
       "      <th>HighPrice</th>\n",
       "      <th>LowPrice</th>\n",
       "      <th>ClosePrice</th>\n",
       "      <th>Volume</th>\n",
       "      <th>NA</th>\n",
       "    </tr>\n",
       "  </thead>\n",
       "  <tbody>\n",
       "    <tr>\n",
       "      <th>count</th>\n",
       "      <td>174.00000</td>\n",
       "      <td>174.000000</td>\n",
       "      <td>174.000000</td>\n",
       "      <td>174.000000</td>\n",
       "      <td>174.000000</td>\n",
       "      <td>1.740000e+02</td>\n",
       "    </tr>\n",
       "    <tr>\n",
       "      <th>mean</th>\n",
       "      <td>1173.39408</td>\n",
       "      <td>1181.124713</td>\n",
       "      <td>1166.286437</td>\n",
       "      <td>1173.910747</td>\n",
       "      <td>679.937532</td>\n",
       "      <td>7.945946e+05</td>\n",
       "    </tr>\n",
       "    <tr>\n",
       "      <th>std</th>\n",
       "      <td>47.33585</td>\n",
       "      <td>46.355789</td>\n",
       "      <td>46.928324</td>\n",
       "      <td>46.279889</td>\n",
       "      <td>1210.572689</td>\n",
       "      <td>1.404447e+06</td>\n",
       "    </tr>\n",
       "    <tr>\n",
       "      <th>min</th>\n",
       "      <td>1045.66000</td>\n",
       "      <td>1050.920000</td>\n",
       "      <td>1045.170000</td>\n",
       "      <td>1049.530000</td>\n",
       "      <td>35.752000</td>\n",
       "      <td>4.346891e+04</td>\n",
       "    </tr>\n",
       "    <tr>\n",
       "      <th>25%</th>\n",
       "      <td>1140.64000</td>\n",
       "      <td>1148.102500</td>\n",
       "      <td>1132.990000</td>\n",
       "      <td>1141.622500</td>\n",
       "      <td>162.498599</td>\n",
       "      <td>1.889279e+05</td>\n",
       "    </tr>\n",
       "    <tr>\n",
       "      <th>50%</th>\n",
       "      <td>1172.81000</td>\n",
       "      <td>1176.455000</td>\n",
       "      <td>1165.485000</td>\n",
       "      <td>1172.680000</td>\n",
       "      <td>295.951357</td>\n",
       "      <td>3.518929e+05</td>\n",
       "    </tr>\n",
       "    <tr>\n",
       "      <th>75%</th>\n",
       "      <td>1215.96000</td>\n",
       "      <td>1221.162500</td>\n",
       "      <td>1211.287500</td>\n",
       "      <td>1215.970000</td>\n",
       "      <td>666.247485</td>\n",
       "      <td>7.925832e+05</td>\n",
       "    </tr>\n",
       "    <tr>\n",
       "      <th>max</th>\n",
       "      <td>1262.21000</td>\n",
       "      <td>1275.040000</td>\n",
       "      <td>1252.260000</td>\n",
       "      <td>1261.500000</td>\n",
       "      <td>10209.049686</td>\n",
       "      <td>1.185464e+07</td>\n",
       "    </tr>\n",
       "  </tbody>\n",
       "</table>\n",
       "</div>"
      ],
      "text/plain": [
       "        OpenPrice    HighPrice     LowPrice   ClosePrice        Volume  \\\n",
       "count   174.00000   174.000000   174.000000   174.000000    174.000000   \n",
       "mean   1173.39408  1181.124713  1166.286437  1173.910747    679.937532   \n",
       "std      47.33585    46.355789    46.928324    46.279889   1210.572689   \n",
       "min    1045.66000  1050.920000  1045.170000  1049.530000     35.752000   \n",
       "25%    1140.64000  1148.102500  1132.990000  1141.622500    162.498599   \n",
       "50%    1172.81000  1176.455000  1165.485000  1172.680000    295.951357   \n",
       "75%    1215.96000  1221.162500  1211.287500  1215.970000    666.247485   \n",
       "max    1262.21000  1275.040000  1252.260000  1261.500000  10209.049686   \n",
       "\n",
       "                 NA  \n",
       "count  1.740000e+02  \n",
       "mean   7.945946e+05  \n",
       "std    1.404447e+06  \n",
       "min    4.346891e+04  \n",
       "25%    1.889279e+05  \n",
       "50%    3.518929e+05  \n",
       "75%    7.925832e+05  \n",
       "max    1.185464e+07  "
      ]
     },
     "execution_count": 18,
     "metadata": {},
     "output_type": "execute_result"
    }
   ],
   "source": [
    "eth.describe()"
   ]
  },
  {
   "cell_type": "markdown",
   "id": "cce0a5f7-244a-4895-a5c2-a8a65cc7ee5c",
   "metadata": {},
   "source": [
    "## Dynamic plots with Bokeh"
   ]
  },
  {
   "cell_type": "markdown",
   "id": "639b1d07-dd90-42c4-9666-e94f3bd51d9d",
   "metadata": {},
   "source": [
    "#### We can use a different library to create dynamic and interactive graphs, better suited for analyzing your visualized data."
   ]
  },
  {
   "cell_type": "markdown",
   "id": "e7d9c6f7-389d-4422-bca1-882264ac5a43",
   "metadata": {},
   "source": [
    "First, let's import:"
   ]
  },
  {
   "cell_type": "code",
   "execution_count": 19,
   "id": "02f00e70-235f-419d-a4cf-9a57625f9e28",
   "metadata": {},
   "outputs": [],
   "source": [
    "from bokeh.plotting import figure, output_file, show\n",
    "from bokeh.io import output_notebook"
   ]
  },
  {
   "cell_type": "code",
   "execution_count": 20,
   "id": "c1b0d653-9182-4f5b-82c3-3fe80ad31ba8",
   "metadata": {},
   "outputs": [
    {
     "data": {
      "text/html": [
       "<div class=\"bk-root\">\n",
       "        <a href=\"https://bokeh.org\" target=\"_blank\" class=\"bk-logo bk-logo-small bk-logo-notebook\"></a>\n",
       "        <span id=\"1002\">Loading BokehJS ...</span>\n",
       "    </div>\n"
      ]
     },
     "metadata": {},
     "output_type": "display_data"
    },
    {
     "data": {
      "application/javascript": [
       "(function(root) {\n",
       "  function now() {\n",
       "    return new Date();\n",
       "  }\n",
       "\n",
       "  const force = true;\n",
       "\n",
       "  if (typeof root._bokeh_onload_callbacks === \"undefined\" || force === true) {\n",
       "    root._bokeh_onload_callbacks = [];\n",
       "    root._bokeh_is_loading = undefined;\n",
       "  }\n",
       "\n",
       "const JS_MIME_TYPE = 'application/javascript';\n",
       "  const HTML_MIME_TYPE = 'text/html';\n",
       "  const EXEC_MIME_TYPE = 'application/vnd.bokehjs_exec.v0+json';\n",
       "  const CLASS_NAME = 'output_bokeh rendered_html';\n",
       "\n",
       "  /**\n",
       "   * Render data to the DOM node\n",
       "   */\n",
       "  function render(props, node) {\n",
       "    const script = document.createElement(\"script\");\n",
       "    node.appendChild(script);\n",
       "  }\n",
       "\n",
       "  /**\n",
       "   * Handle when an output is cleared or removed\n",
       "   */\n",
       "  function handleClearOutput(event, handle) {\n",
       "    const cell = handle.cell;\n",
       "\n",
       "    const id = cell.output_area._bokeh_element_id;\n",
       "    const server_id = cell.output_area._bokeh_server_id;\n",
       "    // Clean up Bokeh references\n",
       "    if (id != null && id in Bokeh.index) {\n",
       "      Bokeh.index[id].model.document.clear();\n",
       "      delete Bokeh.index[id];\n",
       "    }\n",
       "\n",
       "    if (server_id !== undefined) {\n",
       "      // Clean up Bokeh references\n",
       "      const cmd_clean = \"from bokeh.io.state import curstate; print(curstate().uuid_to_server['\" + server_id + \"'].get_sessions()[0].document.roots[0]._id)\";\n",
       "      cell.notebook.kernel.execute(cmd_clean, {\n",
       "        iopub: {\n",
       "          output: function(msg) {\n",
       "            const id = msg.content.text.trim();\n",
       "            if (id in Bokeh.index) {\n",
       "              Bokeh.index[id].model.document.clear();\n",
       "              delete Bokeh.index[id];\n",
       "            }\n",
       "          }\n",
       "        }\n",
       "      });\n",
       "      // Destroy server and session\n",
       "      const cmd_destroy = \"import bokeh.io.notebook as ion; ion.destroy_server('\" + server_id + \"')\";\n",
       "      cell.notebook.kernel.execute(cmd_destroy);\n",
       "    }\n",
       "  }\n",
       "\n",
       "  /**\n",
       "   * Handle when a new output is added\n",
       "   */\n",
       "  function handleAddOutput(event, handle) {\n",
       "    const output_area = handle.output_area;\n",
       "    const output = handle.output;\n",
       "\n",
       "    // limit handleAddOutput to display_data with EXEC_MIME_TYPE content only\n",
       "    if ((output.output_type != \"display_data\") || (!Object.prototype.hasOwnProperty.call(output.data, EXEC_MIME_TYPE))) {\n",
       "      return\n",
       "    }\n",
       "\n",
       "    const toinsert = output_area.element.find(\".\" + CLASS_NAME.split(' ')[0]);\n",
       "\n",
       "    if (output.metadata[EXEC_MIME_TYPE][\"id\"] !== undefined) {\n",
       "      toinsert[toinsert.length - 1].firstChild.textContent = output.data[JS_MIME_TYPE];\n",
       "      // store reference to embed id on output_area\n",
       "      output_area._bokeh_element_id = output.metadata[EXEC_MIME_TYPE][\"id\"];\n",
       "    }\n",
       "    if (output.metadata[EXEC_MIME_TYPE][\"server_id\"] !== undefined) {\n",
       "      const bk_div = document.createElement(\"div\");\n",
       "      bk_div.innerHTML = output.data[HTML_MIME_TYPE];\n",
       "      const script_attrs = bk_div.children[0].attributes;\n",
       "      for (let i = 0; i < script_attrs.length; i++) {\n",
       "        toinsert[toinsert.length - 1].firstChild.setAttribute(script_attrs[i].name, script_attrs[i].value);\n",
       "        toinsert[toinsert.length - 1].firstChild.textContent = bk_div.children[0].textContent\n",
       "      }\n",
       "      // store reference to server id on output_area\n",
       "      output_area._bokeh_server_id = output.metadata[EXEC_MIME_TYPE][\"server_id\"];\n",
       "    }\n",
       "  }\n",
       "\n",
       "  function register_renderer(events, OutputArea) {\n",
       "\n",
       "    function append_mime(data, metadata, element) {\n",
       "      // create a DOM node to render to\n",
       "      const toinsert = this.create_output_subarea(\n",
       "        metadata,\n",
       "        CLASS_NAME,\n",
       "        EXEC_MIME_TYPE\n",
       "      );\n",
       "      this.keyboard_manager.register_events(toinsert);\n",
       "      // Render to node\n",
       "      const props = {data: data, metadata: metadata[EXEC_MIME_TYPE]};\n",
       "      render(props, toinsert[toinsert.length - 1]);\n",
       "      element.append(toinsert);\n",
       "      return toinsert\n",
       "    }\n",
       "\n",
       "    /* Handle when an output is cleared or removed */\n",
       "    events.on('clear_output.CodeCell', handleClearOutput);\n",
       "    events.on('delete.Cell', handleClearOutput);\n",
       "\n",
       "    /* Handle when a new output is added */\n",
       "    events.on('output_added.OutputArea', handleAddOutput);\n",
       "\n",
       "    /**\n",
       "     * Register the mime type and append_mime function with output_area\n",
       "     */\n",
       "    OutputArea.prototype.register_mime_type(EXEC_MIME_TYPE, append_mime, {\n",
       "      /* Is output safe? */\n",
       "      safe: true,\n",
       "      /* Index of renderer in `output_area.display_order` */\n",
       "      index: 0\n",
       "    });\n",
       "  }\n",
       "\n",
       "  // register the mime type if in Jupyter Notebook environment and previously unregistered\n",
       "  if (root.Jupyter !== undefined) {\n",
       "    const events = require('base/js/events');\n",
       "    const OutputArea = require('notebook/js/outputarea').OutputArea;\n",
       "\n",
       "    if (OutputArea.prototype.mime_types().indexOf(EXEC_MIME_TYPE) == -1) {\n",
       "      register_renderer(events, OutputArea);\n",
       "    }\n",
       "  }\n",
       "  if (typeof (root._bokeh_timeout) === \"undefined\" || force === true) {\n",
       "    root._bokeh_timeout = Date.now() + 5000;\n",
       "    root._bokeh_failed_load = false;\n",
       "  }\n",
       "\n",
       "  const NB_LOAD_WARNING = {'data': {'text/html':\n",
       "     \"<div style='background-color: #fdd'>\\n\"+\n",
       "     \"<p>\\n\"+\n",
       "     \"BokehJS does not appear to have successfully loaded. If loading BokehJS from CDN, this \\n\"+\n",
       "     \"may be due to a slow or bad network connection. Possible fixes:\\n\"+\n",
       "     \"</p>\\n\"+\n",
       "     \"<ul>\\n\"+\n",
       "     \"<li>re-rerun `output_notebook()` to attempt to load from CDN again, or</li>\\n\"+\n",
       "     \"<li>use INLINE resources instead, as so:</li>\\n\"+\n",
       "     \"</ul>\\n\"+\n",
       "     \"<code>\\n\"+\n",
       "     \"from bokeh.resources import INLINE\\n\"+\n",
       "     \"output_notebook(resources=INLINE)\\n\"+\n",
       "     \"</code>\\n\"+\n",
       "     \"</div>\"}};\n",
       "\n",
       "  function display_loaded() {\n",
       "    const el = document.getElementById(\"1002\");\n",
       "    if (el != null) {\n",
       "      el.textContent = \"BokehJS is loading...\";\n",
       "    }\n",
       "    if (root.Bokeh !== undefined) {\n",
       "      if (el != null) {\n",
       "        el.textContent = \"BokehJS \" + root.Bokeh.version + \" successfully loaded.\";\n",
       "      }\n",
       "    } else if (Date.now() < root._bokeh_timeout) {\n",
       "      setTimeout(display_loaded, 100)\n",
       "    }\n",
       "  }\n",
       "\n",
       "  function run_callbacks() {\n",
       "    try {\n",
       "      root._bokeh_onload_callbacks.forEach(function(callback) {\n",
       "        if (callback != null)\n",
       "          callback();\n",
       "      });\n",
       "    } finally {\n",
       "      delete root._bokeh_onload_callbacks\n",
       "    }\n",
       "    console.debug(\"Bokeh: all callbacks have finished\");\n",
       "  }\n",
       "\n",
       "  function load_libs(css_urls, js_urls, callback) {\n",
       "    if (css_urls == null) css_urls = [];\n",
       "    if (js_urls == null) js_urls = [];\n",
       "\n",
       "    root._bokeh_onload_callbacks.push(callback);\n",
       "    if (root._bokeh_is_loading > 0) {\n",
       "      console.debug(\"Bokeh: BokehJS is being loaded, scheduling callback at\", now());\n",
       "      return null;\n",
       "    }\n",
       "    if (js_urls == null || js_urls.length === 0) {\n",
       "      run_callbacks();\n",
       "      return null;\n",
       "    }\n",
       "    console.debug(\"Bokeh: BokehJS not loaded, scheduling load and callback at\", now());\n",
       "    root._bokeh_is_loading = css_urls.length + js_urls.length;\n",
       "\n",
       "    function on_load() {\n",
       "      root._bokeh_is_loading--;\n",
       "      if (root._bokeh_is_loading === 0) {\n",
       "        console.debug(\"Bokeh: all BokehJS libraries/stylesheets loaded\");\n",
       "        run_callbacks()\n",
       "      }\n",
       "    }\n",
       "\n",
       "    function on_error(url) {\n",
       "      console.error(\"failed to load \" + url);\n",
       "    }\n",
       "\n",
       "    for (let i = 0; i < css_urls.length; i++) {\n",
       "      const url = css_urls[i];\n",
       "      const element = document.createElement(\"link\");\n",
       "      element.onload = on_load;\n",
       "      element.onerror = on_error.bind(null, url);\n",
       "      element.rel = \"stylesheet\";\n",
       "      element.type = \"text/css\";\n",
       "      element.href = url;\n",
       "      console.debug(\"Bokeh: injecting link tag for BokehJS stylesheet: \", url);\n",
       "      document.body.appendChild(element);\n",
       "    }\n",
       "\n",
       "    for (let i = 0; i < js_urls.length; i++) {\n",
       "      const url = js_urls[i];\n",
       "      const element = document.createElement('script');\n",
       "      element.onload = on_load;\n",
       "      element.onerror = on_error.bind(null, url);\n",
       "      element.async = false;\n",
       "      element.src = url;\n",
       "      console.debug(\"Bokeh: injecting script tag for BokehJS library: \", url);\n",
       "      document.head.appendChild(element);\n",
       "    }\n",
       "  };\n",
       "\n",
       "  function inject_raw_css(css) {\n",
       "    const element = document.createElement(\"style\");\n",
       "    element.appendChild(document.createTextNode(css));\n",
       "    document.body.appendChild(element);\n",
       "  }\n",
       "\n",
       "  const js_urls = [\"https://cdn.bokeh.org/bokeh/release/bokeh-2.4.3.min.js\", \"https://cdn.bokeh.org/bokeh/release/bokeh-gl-2.4.3.min.js\", \"https://cdn.bokeh.org/bokeh/release/bokeh-widgets-2.4.3.min.js\", \"https://cdn.bokeh.org/bokeh/release/bokeh-tables-2.4.3.min.js\", \"https://cdn.bokeh.org/bokeh/release/bokeh-mathjax-2.4.3.min.js\"];\n",
       "  const css_urls = [];\n",
       "\n",
       "  const inline_js = [    function(Bokeh) {\n",
       "      Bokeh.set_log_level(\"info\");\n",
       "    },\n",
       "function(Bokeh) {\n",
       "    }\n",
       "  ];\n",
       "\n",
       "  function run_inline_js() {\n",
       "    if (root.Bokeh !== undefined || force === true) {\n",
       "          for (let i = 0; i < inline_js.length; i++) {\n",
       "      inline_js[i].call(root, root.Bokeh);\n",
       "    }\n",
       "if (force === true) {\n",
       "        display_loaded();\n",
       "      }} else if (Date.now() < root._bokeh_timeout) {\n",
       "      setTimeout(run_inline_js, 100);\n",
       "    } else if (!root._bokeh_failed_load) {\n",
       "      console.log(\"Bokeh: BokehJS failed to load within specified timeout.\");\n",
       "      root._bokeh_failed_load = true;\n",
       "    } else if (force !== true) {\n",
       "      const cell = $(document.getElementById(\"1002\")).parents('.cell').data().cell;\n",
       "      cell.output_area.append_execute_result(NB_LOAD_WARNING)\n",
       "    }\n",
       "  }\n",
       "\n",
       "  if (root._bokeh_is_loading === 0) {\n",
       "    console.debug(\"Bokeh: BokehJS loaded, going straight to plotting\");\n",
       "    run_inline_js();\n",
       "  } else {\n",
       "    load_libs(css_urls, js_urls, function() {\n",
       "      console.debug(\"Bokeh: BokehJS plotting callback run at\", now());\n",
       "      run_inline_js();\n",
       "    });\n",
       "  }\n",
       "}(window));"
      ],
      "application/vnd.bokehjs_load.v0+json": "(function(root) {\n  function now() {\n    return new Date();\n  }\n\n  const force = true;\n\n  if (typeof root._bokeh_onload_callbacks === \"undefined\" || force === true) {\n    root._bokeh_onload_callbacks = [];\n    root._bokeh_is_loading = undefined;\n  }\n\n\n  if (typeof (root._bokeh_timeout) === \"undefined\" || force === true) {\n    root._bokeh_timeout = Date.now() + 5000;\n    root._bokeh_failed_load = false;\n  }\n\n  const NB_LOAD_WARNING = {'data': {'text/html':\n     \"<div style='background-color: #fdd'>\\n\"+\n     \"<p>\\n\"+\n     \"BokehJS does not appear to have successfully loaded. If loading BokehJS from CDN, this \\n\"+\n     \"may be due to a slow or bad network connection. Possible fixes:\\n\"+\n     \"</p>\\n\"+\n     \"<ul>\\n\"+\n     \"<li>re-rerun `output_notebook()` to attempt to load from CDN again, or</li>\\n\"+\n     \"<li>use INLINE resources instead, as so:</li>\\n\"+\n     \"</ul>\\n\"+\n     \"<code>\\n\"+\n     \"from bokeh.resources import INLINE\\n\"+\n     \"output_notebook(resources=INLINE)\\n\"+\n     \"</code>\\n\"+\n     \"</div>\"}};\n\n  function display_loaded() {\n    const el = document.getElementById(\"1002\");\n    if (el != null) {\n      el.textContent = \"BokehJS is loading...\";\n    }\n    if (root.Bokeh !== undefined) {\n      if (el != null) {\n        el.textContent = \"BokehJS \" + root.Bokeh.version + \" successfully loaded.\";\n      }\n    } else if (Date.now() < root._bokeh_timeout) {\n      setTimeout(display_loaded, 100)\n    }\n  }\n\n  function run_callbacks() {\n    try {\n      root._bokeh_onload_callbacks.forEach(function(callback) {\n        if (callback != null)\n          callback();\n      });\n    } finally {\n      delete root._bokeh_onload_callbacks\n    }\n    console.debug(\"Bokeh: all callbacks have finished\");\n  }\n\n  function load_libs(css_urls, js_urls, callback) {\n    if (css_urls == null) css_urls = [];\n    if (js_urls == null) js_urls = [];\n\n    root._bokeh_onload_callbacks.push(callback);\n    if (root._bokeh_is_loading > 0) {\n      console.debug(\"Bokeh: BokehJS is being loaded, scheduling callback at\", now());\n      return null;\n    }\n    if (js_urls == null || js_urls.length === 0) {\n      run_callbacks();\n      return null;\n    }\n    console.debug(\"Bokeh: BokehJS not loaded, scheduling load and callback at\", now());\n    root._bokeh_is_loading = css_urls.length + js_urls.length;\n\n    function on_load() {\n      root._bokeh_is_loading--;\n      if (root._bokeh_is_loading === 0) {\n        console.debug(\"Bokeh: all BokehJS libraries/stylesheets loaded\");\n        run_callbacks()\n      }\n    }\n\n    function on_error(url) {\n      console.error(\"failed to load \" + url);\n    }\n\n    for (let i = 0; i < css_urls.length; i++) {\n      const url = css_urls[i];\n      const element = document.createElement(\"link\");\n      element.onload = on_load;\n      element.onerror = on_error.bind(null, url);\n      element.rel = \"stylesheet\";\n      element.type = \"text/css\";\n      element.href = url;\n      console.debug(\"Bokeh: injecting link tag for BokehJS stylesheet: \", url);\n      document.body.appendChild(element);\n    }\n\n    for (let i = 0; i < js_urls.length; i++) {\n      const url = js_urls[i];\n      const element = document.createElement('script');\n      element.onload = on_load;\n      element.onerror = on_error.bind(null, url);\n      element.async = false;\n      element.src = url;\n      console.debug(\"Bokeh: injecting script tag for BokehJS library: \", url);\n      document.head.appendChild(element);\n    }\n  };\n\n  function inject_raw_css(css) {\n    const element = document.createElement(\"style\");\n    element.appendChild(document.createTextNode(css));\n    document.body.appendChild(element);\n  }\n\n  const js_urls = [\"https://cdn.bokeh.org/bokeh/release/bokeh-2.4.3.min.js\", \"https://cdn.bokeh.org/bokeh/release/bokeh-gl-2.4.3.min.js\", \"https://cdn.bokeh.org/bokeh/release/bokeh-widgets-2.4.3.min.js\", \"https://cdn.bokeh.org/bokeh/release/bokeh-tables-2.4.3.min.js\", \"https://cdn.bokeh.org/bokeh/release/bokeh-mathjax-2.4.3.min.js\"];\n  const css_urls = [];\n\n  const inline_js = [    function(Bokeh) {\n      Bokeh.set_log_level(\"info\");\n    },\nfunction(Bokeh) {\n    }\n  ];\n\n  function run_inline_js() {\n    if (root.Bokeh !== undefined || force === true) {\n          for (let i = 0; i < inline_js.length; i++) {\n      inline_js[i].call(root, root.Bokeh);\n    }\nif (force === true) {\n        display_loaded();\n      }} else if (Date.now() < root._bokeh_timeout) {\n      setTimeout(run_inline_js, 100);\n    } else if (!root._bokeh_failed_load) {\n      console.log(\"Bokeh: BokehJS failed to load within specified timeout.\");\n      root._bokeh_failed_load = true;\n    } else if (force !== true) {\n      const cell = $(document.getElementById(\"1002\")).parents('.cell').data().cell;\n      cell.output_area.append_execute_result(NB_LOAD_WARNING)\n    }\n  }\n\n  if (root._bokeh_is_loading === 0) {\n    console.debug(\"Bokeh: BokehJS loaded, going straight to plotting\");\n    run_inline_js();\n  } else {\n    load_libs(css_urls, js_urls, function() {\n      console.debug(\"Bokeh: BokehJS plotting callback run at\", now());\n      run_inline_js();\n    });\n  }\n}(window));"
     },
     "metadata": {},
     "output_type": "display_data"
    }
   ],
   "source": [
    "output_notebook()"
   ]
  },
  {
   "cell_type": "markdown",
   "id": "bd470dd6-d50c-4349-9bb2-946ba5590b32",
   "metadata": {},
   "source": [
    "And now we can generate the plot:"
   ]
  },
  {
   "cell_type": "code",
   "execution_count": 21,
   "id": "b460d495-ada5-49b0-b266-b98c8f19ed56",
   "metadata": {},
   "outputs": [
    {
     "data": {
      "text/html": [
       "\n",
       "  <div class=\"bk-root\" id=\"eb06a945-5fab-4ed5-899e-e1e1016ba60b\" data-root-id=\"1003\"></div>\n"
      ]
     },
     "metadata": {},
     "output_type": "display_data"
    },
    {
     "data": {
      "application/javascript": [
       "(function(root) {\n",
       "  function embed_document(root) {\n",
       "  const docs_json = {\"57ec6400-771b-48c0-8565-0d48a11b62ec\":{\"defs\":[],\"roots\":{\"references\":[{\"attributes\":{\"below\":[{\"id\":\"1014\"}],\"center\":[{\"id\":\"1017\"},{\"id\":\"1021\"},{\"id\":\"1064\"}],\"left\":[{\"id\":\"1018\"}],\"renderers\":[{\"id\":\"1040\"}],\"title\":{\"id\":\"1004\"},\"toolbar\":{\"id\":\"1029\"},\"width\":800,\"x_range\":{\"id\":\"1006\"},\"x_scale\":{\"id\":\"1010\"},\"y_range\":{\"id\":\"1008\"},\"y_scale\":{\"id\":\"1012\"}},\"id\":\"1003\",\"subtype\":\"Figure\",\"type\":\"Plot\"},{\"attributes\":{},\"id\":\"1044\",\"type\":\"BasicTickFormatter\"},{\"attributes\":{\"tools\":[{\"id\":\"1022\"},{\"id\":\"1023\"},{\"id\":\"1024\"},{\"id\":\"1025\"},{\"id\":\"1026\"},{\"id\":\"1027\"}]},\"id\":\"1029\",\"type\":\"Toolbar\"},{\"attributes\":{},\"id\":\"1045\",\"type\":\"AllLabels\"},{\"attributes\":{\"bottom_units\":\"screen\",\"coordinates\":null,\"fill_alpha\":0.5,\"fill_color\":\"lightgrey\",\"group\":null,\"left_units\":\"screen\",\"level\":\"overlay\",\"line_alpha\":1.0,\"line_color\":\"black\",\"line_dash\":[4,4],\"line_width\":2,\"right_units\":\"screen\",\"syncable\":false,\"top_units\":\"screen\"},\"id\":\"1028\",\"type\":\"BoxAnnotation\"},{\"attributes\":{},\"id\":\"1047\",\"type\":\"DatetimeTickFormatter\"},{\"attributes\":{},\"id\":\"1006\",\"type\":\"DataRange1d\"},{\"attributes\":{\"line_color\":\"#f2a900\",\"x\":{\"field\":\"x\"},\"y\":{\"field\":\"y\"}},\"id\":\"1037\",\"type\":\"Line\"},{\"attributes\":{},\"id\":\"1026\",\"type\":\"ResetTool\"},{\"attributes\":{},\"id\":\"1025\",\"type\":\"SaveTool\"},{\"attributes\":{\"overlay\":{\"id\":\"1028\"}},\"id\":\"1024\",\"type\":\"BoxZoomTool\"},{\"attributes\":{\"mantissas\":[1,2,5],\"max_interval\":500.0,\"num_minor_ticks\":0},\"id\":\"1052\",\"type\":\"AdaptiveTicker\"},{\"attributes\":{},\"id\":\"1022\",\"type\":\"PanTool\"},{\"attributes\":{},\"id\":\"1023\",\"type\":\"WheelZoomTool\"},{\"attributes\":{},\"id\":\"1048\",\"type\":\"AllLabels\"},{\"attributes\":{\"base\":60,\"mantissas\":[1,2,5,10,15,20,30],\"max_interval\":1800000.0,\"min_interval\":1000.0,\"num_minor_ticks\":0},\"id\":\"1053\",\"type\":\"AdaptiveTicker\"},{\"attributes\":{\"label\":{\"value\":\"Bitcoin\"},\"renderers\":[{\"id\":\"1040\"}]},\"id\":\"1065\",\"type\":\"LegendItem\"},{\"attributes\":{\"days\":[1,8,15,22]},\"id\":\"1057\",\"type\":\"DaysTicker\"},{\"attributes\":{},\"id\":\"1019\",\"type\":\"BasicTicker\"},{\"attributes\":{\"base\":24,\"mantissas\":[1,2,4,6,8,12],\"max_interval\":43200000.0,\"min_interval\":3600000.0,\"num_minor_ticks\":0},\"id\":\"1054\",\"type\":\"AdaptiveTicker\"},{\"attributes\":{\"axis\":{\"id\":\"1018\"},\"coordinates\":null,\"dimension\":1,\"grid_line_alpha\":0.3,\"group\":null,\"ticker\":null},\"id\":\"1021\",\"type\":\"Grid\"},{\"attributes\":{},\"id\":\"1063\",\"type\":\"YearsTicker\"},{\"attributes\":{\"axis_label\":\"Price\",\"coordinates\":null,\"formatter\":{\"id\":\"1044\"},\"group\":null,\"major_label_policy\":{\"id\":\"1045\"},\"ticker\":{\"id\":\"1019\"}},\"id\":\"1018\",\"type\":\"LinearAxis\"},{\"attributes\":{\"days\":[1,4,7,10,13,16,19,22,25,28]},\"id\":\"1056\",\"type\":\"DaysTicker\"},{\"attributes\":{},\"id\":\"1027\",\"type\":\"HelpTool\"},{\"attributes\":{\"days\":[1,2,3,4,5,6,7,8,9,10,11,12,13,14,15,16,17,18,19,20,21,22,23,24,25,26,27,28,29,30,31]},\"id\":\"1055\",\"type\":\"DaysTicker\"},{\"attributes\":{\"months\":[0,6]},\"id\":\"1062\",\"type\":\"MonthsTicker\"},{\"attributes\":{\"line_alpha\":0.2,\"line_color\":\"#f2a900\",\"x\":{\"field\":\"x\"},\"y\":{\"field\":\"y\"}},\"id\":\"1039\",\"type\":\"Line\"},{\"attributes\":{},\"id\":\"1008\",\"type\":\"DataRange1d\"},{\"attributes\":{\"days\":[1,15]},\"id\":\"1058\",\"type\":\"DaysTicker\"},{\"attributes\":{\"months\":[0,1,2,3,4,5,6,7,8,9,10,11]},\"id\":\"1059\",\"type\":\"MonthsTicker\"},{\"attributes\":{},\"id\":\"1049\",\"type\":\"UnionRenderers\"},{\"attributes\":{\"months\":[0,2,4,6,8,10]},\"id\":\"1060\",\"type\":\"MonthsTicker\"},{\"attributes\":{},\"id\":\"1050\",\"type\":\"Selection\"},{\"attributes\":{\"months\":[0,4,8]},\"id\":\"1061\",\"type\":\"MonthsTicker\"},{\"attributes\":{\"line_alpha\":0.1,\"line_color\":\"#f2a900\",\"x\":{\"field\":\"x\"},\"y\":{\"field\":\"y\"}},\"id\":\"1038\",\"type\":\"Line\"},{\"attributes\":{\"source\":{\"id\":\"1036\"}},\"id\":\"1041\",\"type\":\"CDSView\"},{\"attributes\":{\"coordinates\":null,\"data_source\":{\"id\":\"1036\"},\"glyph\":{\"id\":\"1037\"},\"group\":null,\"hover_glyph\":null,\"muted_glyph\":{\"id\":\"1039\"},\"nonselection_glyph\":{\"id\":\"1038\"},\"view\":{\"id\":\"1041\"}},\"id\":\"1040\",\"type\":\"GlyphRenderer\"},{\"attributes\":{\"coordinates\":null,\"group\":null,\"items\":[{\"id\":\"1065\"}],\"location\":\"top_left\"},\"id\":\"1064\",\"type\":\"Legend\"},{\"attributes\":{},\"id\":\"1010\",\"type\":\"LinearScale\"},{\"attributes\":{\"data\":{\"x\":{\"__ndarray__\":\"AAAAk4MceEIAAOgBhxx4QgAA0HCKHHhCAAC4340ceEIAAKBOkRx4QgAAiL2UHHhCAABwLJgceEIAAFibmxx4QgAAQAqfHHhCAAAoeaIceEIAABDopRx4QgAA+FapHHhCAADgxawceEIAAMg0sBx4QgAAsKOzHHhCAACYErcceEIAAICBuhx4QgAAaPC9HHhCAABQX8EceEIAADjOxBx4QgAAID3IHHhCAAAIrMsceEIAAPAazxx4QgAA2InSHHhCAADA+NUceEIAAKhn2Rx4QgAAkNbcHHhCAAB4ReAceEIAAGC04xx4QgAASCPnHHhCAAAwkuoceEIAABgB7hx4QgAAAHDxHHhCAADo3vQceEIAANBN+Bx4QgAAuLz7HHhCAACgK/8ceEIAAIiaAh14QgAAcAkGHXhCAABYeAkdeEIAAEDnDB14QgAAKFYQHXhCAAAQxRMdeEIAAPgzFx14QgAA4KIaHXhCAADIER4deEIAALCAIR14QgAAmO8kHXhCAACAXigdeEIAAGjNKx14QgAAUDwvHXhCAAA4qzIdeEIAACAaNh14QgAACIk5HXhCAADw9zwdeEIAANhmQB14QgAAwNVDHXhCAACoREcdeEIAAJCzSh14QgAAeCJOHXhCAABgkVEdeEIAAEgAVR14QgAAMG9YHXhCAAAY3lsdeEIAAABNXx14QgAA6LtiHXhCAADQKmYdeEIAALiZaR14QgAAoAhtHXhCAACId3AdeEIAAHDmcx14QgAAWFV3HXhCAABAxHodeEIAACgzfh14QgAAEKKBHXhCAAD4EIUdeEIAAOB/iB14QgAAyO6LHXhCAACwXY8deEIAAJjMkh14QgAAgDuWHXhCAABoqpkdeEIAAFAZnR14QgAAOIigHXhCAAAg96MdeEIAAAhmpx14QgAA8NSqHXhCAADYQ64deEIAAMCysR14QgAAqCG1HXhCAACQkLgdeEIAAHj/ux14QgAAYG6/HXhCAABI3cIdeEIAADBMxh14QgAAGLvJHXhCAAAAKs0deEIAAOiY0B14QgAA0AfUHXhCAAC4dtcdeEIAAKDl2h14QgAAiFTeHXhCAABww+EdeEIAAFgy5R14QgAAQKHoHXhCAAAoEOwdeEIAABB/7x14QgAA+O3yHXhCAADgXPYdeEIAAMjL+R14QgAAsDr9HXhCAACYqQAeeEIAAIAYBB54QgAAaIcHHnhCAABQ9goeeEIAADhlDh54QgAAINQRHnhCAAAIQxUeeEIAAPCxGB54QgAA2CAcHnhCAADAjx8eeEIAAKj+Ih54QgAAkG0mHnhCAAB43CkeeEIAAGBLLR54QgAASLowHnhCAAAwKTQeeEIAABiYNx54QgAAAAc7HnhCAADodT4eeEIAANDkQR54QgAAuFNFHnhCAACgwkgeeEIAAIgxTB54QgAAcKBPHnhCAABYD1MeeEIAAEB+Vh54QgAAKO1ZHnhCAAAQXF0eeEIAAPjKYB54QgAA4DlkHnhCAADIqGceeEIAALAXax54QgAAmIZuHnhCAACA9XEeeEIAAGhkdR54QgAAUNN4HnhCAAA4QnweeEIAACCxfx54QgAACCCDHnhCAADwjoYeeEIAANj9iR54QgAAwGyNHnhCAACo25AeeEIAAJBKlB54QgAAeLmXHnhCAABgKJseeEIAAEiXnh54QgAAMAaiHnhCAAAYdaUeeEIAAADkqB54QgAA6FKsHnhCAADQwa8eeEIAALgwsx54QgAAoJ+2HnhCAACIDroeeEIAAHB9vR54QgAAWOzAHnhCAABAW8QeeEIAACjKxx54QgAAEDnLHnhCAAD4p84eeEIAAOAW0h54QgAAyIXVHnhC\",\"dtype\":\"float64\",\"order\":\"little\",\"shape\":[174]},\"y\":{\"__ndarray__\":\"SOF6FA6o0kBmZmZmJq3SQGZmZmaW49JASOF6FP7/0kBmZmZm9lLTQK5H4XpUO9NAzczMzCwQ00CF61G4XiTTQOxRuB4lT9NAcT0K1yND00CF61G4fmrTQClcj8IlcNNAH4XrUehW00BxPQrXQ0zTQD0K16MAe9NASOF6FJ6o00C4HoXrYbzTQGZmZmbW59NAexSuR4HP00AUrkfhiq/TQHE9Ctfzz9NAcT0K1/PH00B7FK5HEc/TQOF6FK7H49NA9ihcjyK400Bcj8L1eGfTQMP1KFz/SNNAKVyPwqVC00A9CtejIAvTQMP1KFzf5tJApHA9Cgft0kBSuB6FW/7SQKRwPQp3DdNAMzMzMzMW00DsUbgedTnTQEjhehSunNNAzczMzKzm00CuR+F61PbTQHsUrkcR3tNAw/UoXE/u00AfhetRKLLTQGZmZma2wtNAuB6F67Fm00AzMzMzU2LTQKRwPQo3d9NAUrgehWuc00D2KFyPwo7TQHE9CteTmtNAcT0K17Oq00AUrkfherLTQClcj8K1stNASOF6FL6k00CuR+F6lJzTQDMzMzNDq9NAhetRuK6300AAAAAAwLPTQClcj8KVqNNAmpmZmSnM00DXo3A9CsbTQEjhehQu49NArkfhetTR00AUrkfhmubTQIXrUbju29NA4XoUrncE1EDNzMzM3BDUQMP1KFw/CdRAuB6F63EB1EDsUbge9erTQKRwPQrH/NNA16NwPZrt00DXo3A9qs3TQD0K16NA2tNAKVyPwpXy00ApXI/CdQjUQClcj8LlD9RAFK5H4UoC1EDsUbgeFQLUQClcj8I179NAhetRuO4M1ECPwvUofGvUQIXrUbieYdRAH4XrUaiV1EBcj8L16GfUQArXo3B93NRA16NwPcpS1UAzMzMz4xzVQLgeheuhJ9VAj8L1KDwe1UBxPQrX4yLVQArXo3C9NNVASOF6FD6c1UBxPQrXU3bVQD0K16PQmNVAAAAAACB31UA9CtejQFnVQDMzMzMjT9VAKVyPwmVJ1UDNzMzMjOzUQJqZmZnZDdVAH4XrUYgF1UCPwvUoDAzVQIXrUbhu3NRA7FG4HiXC1EDNzMzMrDjVQNejcD3KbtVASOF6FF4q1UBmZmZmZjzVQD0K16OAN9VAUrgehZtG1UBI4XoUDlXVQIXrUbg+L9VApHA9CndC1UBcj8L1CBTVQFK4HoVLCNVAexSuR0H+1EAfhetRiAvVQM3MzMx8F9VAAAAAADAL1UAfhetReAHVQClcj8J1DNVAAAAAAMAi1UCkcD0K9zTVQB+F61G4JNVAuB6F68E41UCF61G4TufUQIXrUbhOAdVA9ihcj0IO1UBSuB6FCxfVQGZmZmb2B9VAuB6F68Eu1UAfhetRyFzVQFyPwvXYONVAexSuR7Ec1UBcj8L1eCvVQJqZmZlZMtVAj8L1KPwd1UBmZmZmFhXVQFyPwvX42tRApHA9Cofq1ECuR+F6tMrUQAAAAACAy9RA16NwPTrF1ECF61G4vtjUQJqZmZl5y9RAXI/C9cjU1ECPwvUoTNPUQJqZmZmJ0tRAH4XrUcjE1EB7FK5H8cnUQHsUrkeRy9RA9ihcjwKR1EBI4XoUjl/UQFyPwvXIZ9RAZmZmZrZu1ECuR+F61GXUQI/C9Sj8XdRAAAAAAJBt1EAzMzMz83XUQEjhehROidRApHA9CjdY1EDsUbgeBV7UQM3MzMz8UNRAw/UoXH8T1EC4HoXrkQ/UQLgeheuBDNRAPQrXo6AG1EBSuB6FiwXUQFyPwvXI6NNA9ihcjzL000DhehSu5wrUQAAAAABwD9RAAAAAAGAJ1EBI4XoUDvrTQM3MzMzMAtRA\",\"dtype\":\"float64\",\"order\":\"little\",\"shape\":[174]}},\"selected\":{\"id\":\"1050\"},\"selection_policy\":{\"id\":\"1049\"}},\"id\":\"1036\",\"type\":\"ColumnDataSource\"},{\"attributes\":{\"num_minor_ticks\":5,\"tickers\":[{\"id\":\"1052\"},{\"id\":\"1053\"},{\"id\":\"1054\"},{\"id\":\"1055\"},{\"id\":\"1056\"},{\"id\":\"1057\"},{\"id\":\"1058\"},{\"id\":\"1059\"},{\"id\":\"1060\"},{\"id\":\"1061\"},{\"id\":\"1062\"},{\"id\":\"1063\"}]},\"id\":\"1015\",\"type\":\"DatetimeTicker\"},{\"attributes\":{\"axis_label\":\"Date\",\"coordinates\":null,\"formatter\":{\"id\":\"1047\"},\"group\":null,\"major_label_policy\":{\"id\":\"1048\"},\"ticker\":{\"id\":\"1015\"}},\"id\":\"1014\",\"type\":\"DatetimeAxis\"},{\"attributes\":{\"coordinates\":null,\"group\":null,\"text\":\"Crypto Prices\"},\"id\":\"1004\",\"type\":\"Title\"},{\"attributes\":{\"axis\":{\"id\":\"1014\"},\"coordinates\":null,\"grid_line_alpha\":0.3,\"group\":null,\"ticker\":null},\"id\":\"1017\",\"type\":\"Grid\"},{\"attributes\":{},\"id\":\"1012\",\"type\":\"LinearScale\"}],\"root_ids\":[\"1003\"]},\"title\":\"Bokeh Application\",\"version\":\"2.4.3\"}};\n",
       "  const render_items = [{\"docid\":\"57ec6400-771b-48c0-8565-0d48a11b62ec\",\"root_ids\":[\"1003\"],\"roots\":{\"1003\":\"eb06a945-5fab-4ed5-899e-e1e1016ba60b\"}}];\n",
       "  root.Bokeh.embed.embed_items_notebook(docs_json, render_items);\n",
       "  }\n",
       "  if (root.Bokeh !== undefined) {\n",
       "    embed_document(root);\n",
       "  } else {\n",
       "    let attempts = 0;\n",
       "    const timer = setInterval(function(root) {\n",
       "      if (root.Bokeh !== undefined) {\n",
       "        clearInterval(timer);\n",
       "        embed_document(root);\n",
       "      } else {\n",
       "        attempts++;\n",
       "        if (attempts > 100) {\n",
       "          clearInterval(timer);\n",
       "          console.log(\"Bokeh: ERROR: Unable to run BokehJS code because BokehJS library is missing\");\n",
       "        }\n",
       "      }\n",
       "    }, 10, root)\n",
       "  }\n",
       "})(window);"
      ],
      "application/vnd.bokehjs_exec.v0+json": ""
     },
     "metadata": {
      "application/vnd.bokehjs_exec.v0+json": {
       "id": "1003"
      }
     },
     "output_type": "display_data"
    }
   ],
   "source": [
    "p1 = figure(x_axis_type='datetime', title='Crypto Prices', width=800)\n",
    "p1.grid.grid_line_alpha=0.3\n",
    "p1.xaxis.axis_label= 'Date'\n",
    "p1.yaxis.axis_label = 'Price'\n",
    "\n",
    "p1.line(btc.index, btc['ClosePrice'], color='#f2a900', legend_label='Bitcoin')\n",
    "\n",
    "p1.legend.location = 'top_left'\n",
    "\n",
    "show(p1)"
   ]
  },
  {
   "cell_type": "markdown",
   "id": "d50ba3c9-dc1a-4811-a03a-3597a1f0f98e",
   "metadata": {},
   "source": [
    "**While Bokeh is a cool tool, matplotlib still has significantly more tools available for use, and is often still the go to.**"
   ]
  },
  {
   "cell_type": "markdown",
   "id": "991dc1c4-adba-4635-bf80-e2eda17703d9",
   "metadata": {},
   "source": [
    "## Excel"
   ]
  },
  {
   "cell_type": "markdown",
   "id": "94fc0746-9f27-4fd4-881b-20414a8aca65",
   "metadata": {},
   "source": [
    "#### We can also export this data to an excel spreadsheet to easily store, send, and view the compiled or re-formatted data"
   ]
  },
  {
   "cell_type": "code",
   "execution_count": 22,
   "id": "17e2259a-aa44-4def-a8a4-e096a289056c",
   "metadata": {},
   "outputs": [],
   "source": [
    "writer = pd.ExcelWriter('cryptos.xlsx')"
   ]
  },
  {
   "cell_type": "markdown",
   "id": "9a0022e1-7601-4656-bd25-db9a35ebf914",
   "metadata": {},
   "source": [
    "We first iniitialize an Excel writer from pandas, as shown above. Then, we can write our data as such:"
   ]
  },
  {
   "cell_type": "code",
   "execution_count": 23,
   "id": "4b3e3560-4d82-4cb7-97e5-3fca5a675410",
   "metadata": {},
   "outputs": [],
   "source": [
    "btc.to_excel(writer, sheet_name='Bitcoin')"
   ]
  },
  {
   "cell_type": "code",
   "execution_count": 24,
   "id": "103b145a-22cb-4993-b0f0-80dfca199a1c",
   "metadata": {},
   "outputs": [],
   "source": [
    "eth.to_excel(writer, sheet_name='Ethereum')"
   ]
  },
  {
   "cell_type": "markdown",
   "id": "fa907a6e-0fc4-49d2-98de-1aa51e3e5b90",
   "metadata": {},
   "source": [
    "And then we can save the file:"
   ]
  },
  {
   "cell_type": "code",
   "execution_count": 25,
   "id": "7151ca0d-c972-4522-9984-e282e1ad5e9f",
   "metadata": {},
   "outputs": [],
   "source": [
    "writer.save()"
   ]
  },
  {
   "cell_type": "code",
   "execution_count": null,
   "id": "1a85286a-9339-4135-878e-e03d240c4a47",
   "metadata": {},
   "outputs": [],
   "source": []
  }
 ],
 "metadata": {
  "kernelspec": {
   "display_name": "Python 3 (ipykernel)",
   "language": "python",
   "name": "python3"
  },
  "language_info": {
   "codemirror_mode": {
    "name": "ipython",
    "version": 3
   },
   "file_extension": ".py",
   "mimetype": "text/x-python",
   "name": "python",
   "nbconvert_exporter": "python",
   "pygments_lexer": "ipython3",
   "version": "3.9.4"
  }
 },
 "nbformat": 4,
 "nbformat_minor": 5
}
